{
 "cells": [
  {
   "cell_type": "code",
   "execution_count": 1,
   "metadata": {},
   "outputs": [],
   "source": [
    "def eliminate_by_corr(df, target_column,corr_value=0.9):\n",
    "    \"\"\"a function to reduce the less correlated data in the dataset\n",
    "       from the data that are correlated with the target data \"\"\"\n",
    "    liste = list(df.drop(target_column, axis=1).columns)\n",
    "    for i in liste[::-1]:\n",
    "        liste.pop()\n",
    "        for j in liste:\n",
    "            if df[[i,j]].corr().iloc[0,1] > corr_value:\n",
    "                if df[[target_column, i]].corr().iloc[0,1] > df[[target_column, j]].corr().iloc[0,1]:\n",
    "                    return df.drop(j,axis=1)\n",
    "                else:\n",
    "                    return df.drop(i,axis=1)"
   ]
  },
  {
   "cell_type": "code",
   "execution_count": null,
   "metadata": {},
   "outputs": [],
   "source": []
  },
  {
   "cell_type": "code",
   "execution_count": 2,
   "metadata": {},
   "outputs": [],
   "source": [
    "def null_values(df):\n",
    "    \"\"\"a function to show null values with percentage\"\"\"\n",
    "    nv=pd.concat([df.isnull().sum(), 100 * df.isnull().sum()/df.shape[0]],axis=1).rename(columns={0:'Missing_Records', 1:'Percentage (%)'})\n",
    "    return nv[nv.Missing_Records>0].sort_values('Missing_Records', ascending=False)"
   ]
  },
  {
   "cell_type": "code",
   "execution_count": 3,
   "metadata": {},
   "outputs": [],
   "source": [
    "def null_values(df):\n",
    "    \"\"\"a function to show null values with percentage\"\"\"\n",
    "    mis_val = df.isnull().sum()\n",
    "    mis_val_percent = 100 * df.isnull().sum() / len(df)\n",
    "    mis_val_table = pd.concat([mis_val, mis_val_percent], axis=1)\n",
    "    mis_val_table_ren_columns = mis_val_table.rename(\n",
    "    columns = {0 : 'Missing Values', 1 : '% of Total Values'})\n",
    "    mis_val_table_ren_columns = mis_val_table_ren_columns[\n",
    "        mis_val_table_ren_columns.iloc[:,1] != 0].sort_values(\n",
    "    '% of Total Values', ascending=False).round(1)\n",
    "    print (\"Dataframe has \" + str(df.shape[1]) + \" columns.\\n\"      \n",
    "        \"There are \" + str(mis_val_table_ren_columns.shape[0]) +\n",
    "            \" columns that have missing values.\")\n",
    "    return mis_val_table_ren_columns"
   ]
  },
  {
   "cell_type": "code",
   "execution_count": 4,
   "metadata": {},
   "outputs": [],
   "source": [
    "def fill_mean(df, group_col, col_name):\n",
    "    \"\"\"a function to fill missing values with mean values according to group_col\"\"\"\n",
    "    df[col_name].fillna(df.groupby(group_col)[col_name].transform(\"mean\"), inplace=True)\n",
    "    print(\"Number of NaN : \", df[col_name].isnull().sum())\n",
    "    print(\"------------------\")\n",
    "    print(df[col_name].value_counts(dropna=False))"
   ]
  },
  {
   "cell_type": "code",
   "execution_count": 5,
   "metadata": {},
   "outputs": [],
   "source": [
    "# total_acc_avg = df.groupby('total_acc').mean()['mort_acc']"
   ]
  },
  {
   "cell_type": "code",
   "execution_count": 7,
   "metadata": {},
   "outputs": [],
   "source": [
    "def fill_mort_acc(total_acc,mort_acc):\n",
    "    \"\"\"a function to fill missing values with mean values according to group_col\"\"\"\n",
    "    if np.isnan(mort_acc):\n",
    "        return total_acc_avg[total_acc]\n",
    "    else:\n",
    "        return mort_acc"
   ]
  },
  {
   "cell_type": "code",
   "execution_count": 6,
   "metadata": {},
   "outputs": [],
   "source": [
    "# df['mort_acc'] = df.apply(lambda x: fill_mort_acc(x['total_acc'], x['mort_acc']), axis=1)"
   ]
  },
  {
   "cell_type": "markdown",
   "metadata": {},
   "source": [
    "### get_dummies"
   ]
  },
  {
   "cell_type": "code",
   "execution_count": 8,
   "metadata": {},
   "outputs": [],
   "source": [
    "dummies = pd.get_dummies(df[['verification_status', 'application_type','initial_list_status','purpose' ]],drop_first=True)\n",
    "df = df.drop(['verification_status', 'application_type','initial_list_status','purpose'],axis=1)\n",
    "df = pd.concat([df,dummies],axis=1)"
   ]
  },
  {
   "cell_type": "code",
   "execution_count": null,
   "metadata": {},
   "outputs": [],
   "source": [
    "# without CONCAT\n",
    "df_2_mit_brand = pd.get_dummies(df_2, columns=['vehicle_brand'], prefix='brand')"
   ]
  },
  {
   "cell_type": "markdown",
   "metadata": {},
   "source": [
    "### row manipulation"
   ]
  },
  {
   "cell_type": "code",
   "execution_count": 9,
   "metadata": {},
   "outputs": [],
   "source": [
    "# df[\"zip_code\"] = df[\"address\"].apply(lambda address:address[-5:])"
   ]
  },
  {
   "cell_type": "markdown",
   "metadata": {},
   "source": [
    "### Sütundaki degerlere yeni deger atama .loc[]"
   ]
  },
  {
   "cell_type": "code",
   "execution_count": null,
   "metadata": {},
   "outputs": [],
   "source": [
    "# sütundaki degerlere yeni deger atama .loc ile\n",
    "df_2.loc[df_2['vehicle_brand'].str.contains('Volks'), \"vehicle_brand\"] = \"Volkswagen\""
   ]
  },
  {
   "cell_type": "markdown",
   "metadata": {},
   "source": [
    "### Sub String Sorgulama"
   ]
  },
  {
   "cell_type": "code",
   "execution_count": null,
   "metadata": {},
   "outputs": [],
   "source": [
    "# substring sorgulama\n",
    "df_2.loc[df_2['vehicle_brand'].str.contains('Volks'), \"vehicle_brand\"] = \"Volkswagen\""
   ]
  },
  {
   "cell_type": "markdown",
   "metadata": {},
   "source": [
    "### Fillna Oranli Doldurma"
   ]
  },
  {
   "cell_type": "code",
   "execution_count": null,
   "metadata": {},
   "outputs": [],
   "source": [
    "df_2.vehicle_brand.fillna(\"Volkswagen\", limit = 30, inplace = True)\n",
    "df_2.vehicle_brand.fillna(\"BMW\", limit = 27, inplace = True)\n",
    "df_2.vehicle_brand.fillna(\"Audi\", limit = 25, inplace = True)\n",
    "df_2.vehicle_brand.fillna(\"Opel\", limit = 25, inplace = True)\n",
    "df_2.vehicle_brand.fillna(\"Ford\", limit = 20, inplace = True)"
   ]
  },
  {
   "cell_type": "markdown",
   "metadata": {},
   "source": [
    "### Fillna Mean/Median"
   ]
  },
  {
   "cell_type": "code",
   "execution_count": null,
   "metadata": {},
   "outputs": [],
   "source": [
    "df.repair_duration.fillna(value = np.nanmedian(df.repair_duration), inplace=True)"
   ]
  },
  {
   "cell_type": "markdown",
   "metadata": {},
   "source": [
    "### Fillna Only Value"
   ]
  },
  {
   "cell_type": "code",
   "execution_count": null,
   "metadata": {},
   "outputs": [],
   "source": [
    "df.impairment_of_value.fillna(value = 0, inplace=True)"
   ]
  },
  {
   "cell_type": "markdown",
   "metadata": {},
   "source": [
    "### One Hot Encoding"
   ]
  },
  {
   "cell_type": "code",
   "execution_count": null,
   "metadata": {},
   "outputs": [],
   "source": [
    "# for ordinal values\n",
    "insurance_dict = {\"liability\":0, \"partial_cover\":1, \"cover\":2, \"comprehensive_cover\":3}\n",
    "df_2[\"insurance_type\"] = df_2[\"insurance_type\"].map(insurance_dict)"
   ]
  },
  {
   "cell_type": "markdown",
   "metadata": {},
   "source": [
    "### Drop Columns"
   ]
  },
  {
   "cell_type": "code",
   "execution_count": null,
   "metadata": {},
   "outputs": [],
   "source": [
    "df_2 = df.drop([\"damage_date\",\"invoice_date\",\"application_date\",\"vehicle_registration\"], axis=1)"
   ]
  },
  {
   "cell_type": "markdown",
   "metadata": {},
   "source": [
    "### Read CSV with date parser"
   ]
  },
  {
   "cell_type": "code",
   "execution_count": null,
   "metadata": {},
   "outputs": [],
   "source": [
    "data2 = pd.read_csv(\"timeseries.csv\", sep=\";\", index_col=0, na_values=['no'],\n",
    "                    parse_dates = [1], #date_parser = lambda x: pd.to_datetime(x, format='%d.%m.%Y'),\n",
    "                    dtype = {'y': float})"
   ]
  },
  {
   "cell_type": "code",
   "execution_count": null,
   "metadata": {},
   "outputs": [],
   "source": [
    "# or\n",
    "df = pd.read_csv(\"accident_records.csv\", sep=\";\", decimal=',', encoding=\"ISO 8859-1\", # parse_dates = [1, 2, 3, 4],\n",
    "                date_parser = lambda x: pd.to_datetime(x, format='%d.%m.%Y'))\n",
    "df"
   ]
  },
  {
   "cell_type": "markdown",
   "metadata": {},
   "source": [
    "### Change STring to DATETIME"
   ]
  },
  {
   "cell_type": "code",
   "execution_count": null,
   "metadata": {},
   "outputs": [],
   "source": [
    "df[\"damage_date\"] = pd.to_datetime(df[\"damage_date\"], format=\"%d.%m.%Y\")\n",
    "df[\"invoice_date\"] = pd.to_datetime(df[\"invoice_date\"], format=\"%d.%m.%Y\")\n",
    "df[ \"application_date\"] = pd.to_datetime(df[ \"application_date\"], format=\"%d.%m.%Y\")"
   ]
  },
  {
   "cell_type": "code",
   "execution_count": null,
   "metadata": {},
   "outputs": [],
   "source": []
  },
  {
   "cell_type": "code",
   "execution_count": null,
   "metadata": {},
   "outputs": [],
   "source": []
  }
 ],
 "metadata": {
  "kernelspec": {
   "display_name": "Python 3",
   "language": "python",
   "name": "python3"
  },
  "language_info": {
   "codemirror_mode": {
    "name": "ipython",
    "version": 3
   },
   "file_extension": ".py",
   "mimetype": "text/x-python",
   "name": "python",
   "nbconvert_exporter": "python",
   "pygments_lexer": "ipython3",
   "version": "3.8.1"
  }
 },
 "nbformat": 4,
 "nbformat_minor": 4
}
