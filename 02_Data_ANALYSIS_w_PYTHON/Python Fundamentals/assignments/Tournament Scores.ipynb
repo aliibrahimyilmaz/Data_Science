{
 "cells": [
  {
   "cell_type": "code",
   "execution_count": 94,
   "metadata": {},
   "outputs": [],
   "source": [
    "def tournament_scores(lst):\n",
    "    \n",
    "    points_dict = {\"A\" : 0, \"B\" : 0, \"C\" : 0, \"D\" : 0}\n",
    "    goals_dict = {\"A\" : 0, \"B\" : 0, \"C\" : 0, \"D\" : 0}\n",
    "    minus_dict = {\"A\" : 0, \"B\" : 0, \"C\" : 0, \"D\" : 0}\n",
    "\n",
    "    for i in lst:\n",
    "        if int(i[2]) > int(i[-3]):\n",
    "            points_dict[i[0]] += 3\n",
    "            points_dict[i[-1]] += 0\n",
    "        elif int(i[-3]) > int(i[2]):\n",
    "            points_dict[i[0]] += 0\n",
    "            points_dict[i[-1]] += 3\n",
    "        else:\n",
    "            points_dict[i[0]] += 1\n",
    "            points_dict[i[-1]] += 1\n",
    "\n",
    "    for i in lst:        \n",
    "        goals_dict[i[0]] += int(i[2])\n",
    "        goals_dict[i[-1]] += int(i[-3])\n",
    "        minus_dict[i[0]] += int(i[2])-int(i[-3])\n",
    "        minus_dict[i[-1]] += int(i[-3])-int(i[2])\n",
    "\n",
    "    final_order = [list(i) for i in zip(points_dict.keys(), points_dict.values(),\\\n",
    "                                        goals_dict.values(), minus_dict.values())]\n",
    "    final_order.sort(key = lambda x : x[1], reverse = True)            \n",
    "    f_lst = final_order\n",
    "    lst_new = []\n",
    "    count = 0\n",
    "    for i in f_lst:\n",
    "        count += 1\n",
    "        if count < 4:\n",
    "            team = []\n",
    "            sub_list = f_lst[count:]\n",
    "            for j in sub_list:\n",
    "                if i[1] == j[1]:\n",
    "                    if i[2] == j[2]:\n",
    "                        if i[3] > j[3]:\n",
    "                            team = i\n",
    "                            break\n",
    "                        else:\n",
    "                            team = j\n",
    "                            break\n",
    "                    elif i[2] > j[2]:\n",
    "                        team = i\n",
    "                        break\n",
    "                    else: \n",
    "                        team = j\n",
    "                        break\n",
    "                elif i[1] > j[1]:\n",
    "                    team = i\n",
    "                    break\n",
    "                else:\n",
    "                    team = j\n",
    "                    break\n",
    "            lst_new.append(team)\n",
    "            index_team = f_lst.index(i)\n",
    "            f_lst.remove(team)\n",
    "            f_lst.insert(index_team,team)\n",
    "        else :\n",
    "            lst_new.append(i)\n",
    "    return lst_new"
   ]
  },
  {
   "cell_type": "code",
   "execution_count": 96,
   "metadata": {},
   "outputs": [
    {
     "data": {
      "text/plain": [
       "[['C', 6, 5, 2], ['B', 6, 5, 0], ['D', 3, 7, 0], ['A', 3, 7, -2]]"
      ]
     },
     "execution_count": 96,
     "metadata": {},
     "output_type": "execute_result"
    }
   ],
   "source": [
    "tournament_scores([\"A 4 - 2 B\", \"C 3 - 1 D\", \"B 1 - 0 C\", \"D 5 - 2 A\", \"A 1 - 2 C\", \"B 2 - 1 D\"])"
   ]
  },
  {
   "cell_type": "code",
   "execution_count": null,
   "metadata": {},
   "outputs": [],
   "source": []
  }
 ],
 "metadata": {
  "kernelspec": {
   "display_name": "Python 3",
   "language": "python",
   "name": "python3"
  },
  "language_info": {
   "codemirror_mode": {
    "name": "ipython",
    "version": 3
   },
   "file_extension": ".py",
   "mimetype": "text/x-python",
   "name": "python",
   "nbconvert_exporter": "python",
   "pygments_lexer": "ipython3",
   "version": "3.7.6"
  }
 },
 "nbformat": 4,
 "nbformat_minor": 4
}
