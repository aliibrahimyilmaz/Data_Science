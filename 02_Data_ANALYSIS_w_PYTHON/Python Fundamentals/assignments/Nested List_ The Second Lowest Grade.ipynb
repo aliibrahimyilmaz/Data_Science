{
 "cells": [
  {
   "cell_type": "markdown",
   "metadata": {},
   "source": [
    "https://www.hackerrank.com/challenges/nested-list/problem?h_r=next-challenge&h_v=zen"
   ]
  },
  {
   "cell_type": "code",
   "execution_count": null,
   "metadata": {
    "scrolled": false
   },
   "outputs": [],
   "source": [
    "student_num = int(input(\"How many students are there in the Class: \"))\n",
    "records = []\n",
    "\n",
    "for i in range(student_num):\n",
    "    student_name = input(\"name: \")\n",
    "    student_score = float(input(\"score: \"))\n",
    "    records.append([student_name, student_score])\n",
    "\n",
    "sorted_score = sorted([(lambda x : [records[x][1], records[x][0]])(i) for i in range(len(records))])\n",
    "\n",
    "counter = 0\n",
    "name = []\n",
    "\n",
    "while counter <= len(sorted_score):\n",
    "    if sorted_score[counter][0] == sorted_score[counter+1][0]:\n",
    "        counter += 1\n",
    "    else:\n",
    "        name.append(sorted_score[counter+1][1])\n",
    "        counter += 1\n",
    "        break\n",
    "        \n",
    "while counter != len(sorted_score)-1:\n",
    "    if sorted_score[counter][0] != sorted_score[counter+1][0]:\n",
    "        break\n",
    "    else: \n",
    "        name.append(sorted_score[counter+1][1])\n",
    "        counter += 1\n",
    "\n",
    "for i in name:\n",
    "    print(i)"
   ]
  },
  {
   "cell_type": "code",
   "execution_count": null,
   "metadata": {},
   "outputs": [],
   "source": [
    "if __name__ == '__main__':\n",
    "    records = []\n",
    "    for _ in range(int(input())):\n",
    "        student_name = input()\n",
    "        student_score = float(input())\n",
    "        records.append([student_name, student_score])\n",
    "\n",
    "    sorted_score = sorted([(lambda x : [records[x][1], records[x][0]])(i) for i in range(len(records))])\n",
    "\n",
    "    counter = 0\n",
    "    name = []\n",
    "\n",
    "    while counter <= len(sorted_score):\n",
    "        if sorted_score[counter][0] == sorted_score[counter+1][0]:\n",
    "            counter += 1\n",
    "        else:\n",
    "            name.append(sorted_score[counter+1][1])\n",
    "            counter += 1\n",
    "            break\n",
    "\n",
    "    while counter != len(sorted_score)-1:\n",
    "        if sorted_score[counter][0] != sorted_score[counter+1][0]:\n",
    "            break\n",
    "        else: \n",
    "            name.append(sorted_score[counter+1][1])\n",
    "            counter += 1\n",
    "\n",
    "    for i in name:\n",
    "        print(i)\n"
   ]
  },
  {
   "cell_type": "code",
   "execution_count": null,
   "metadata": {},
   "outputs": [],
   "source": []
  }
 ],
 "metadata": {
  "kernelspec": {
   "display_name": "Python 3",
   "language": "python",
   "name": "python3"
  },
  "language_info": {
   "codemirror_mode": {
    "name": "ipython",
    "version": 3
   },
   "file_extension": ".py",
   "mimetype": "text/x-python",
   "name": "python",
   "nbconvert_exporter": "python",
   "pygments_lexer": "ipython3",
   "version": "3.7.6"
  }
 },
 "nbformat": 4,
 "nbformat_minor": 4
}
