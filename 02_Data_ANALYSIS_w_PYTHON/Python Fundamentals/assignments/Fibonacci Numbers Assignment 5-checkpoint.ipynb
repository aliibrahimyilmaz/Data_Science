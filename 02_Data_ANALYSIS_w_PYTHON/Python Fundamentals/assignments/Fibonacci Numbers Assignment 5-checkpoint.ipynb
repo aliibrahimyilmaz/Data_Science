{
 "cells": [
  {
   "cell_type": "code",
   "execution_count": 1,
   "metadata": {},
   "outputs": [
    {
     "data": {
      "text/plain": [
       "[1, 1, 2, 3, 5, 8, 13, 21, 34, 55]"
      ]
     },
     "execution_count": 1,
     "metadata": {},
     "output_type": "execute_result"
    }
   ],
   "source": [
    "fibo_list = [1, 1]\n",
    "i = 0\n",
    "while True:\n",
    "    if fibo_list[-1] == 55:\n",
    "        break\n",
    "    fibo_list.append(fibo_list[i+1] + fibo_list[i])\n",
    "    i += 1\n",
    "fibo_list"
   ]
  },
  {
   "cell_type": "code",
   "execution_count": null,
   "metadata": {},
   "outputs": [],
   "source": []
  }
 ],
 "metadata": {
  "kernelspec": {
   "display_name": "Python 3",
   "language": "python",
   "name": "python3"
  },
  "language_info": {
   "codemirror_mode": {
    "name": "ipython",
    "version": 3
   },
   "file_extension": ".py",
   "mimetype": "text/x-python",
   "name": "python",
   "nbconvert_exporter": "python",
   "pygments_lexer": "ipython3",
   "version": "3.7.6"
  }
 },
 "nbformat": 4,
 "nbformat_minor": 4
}
