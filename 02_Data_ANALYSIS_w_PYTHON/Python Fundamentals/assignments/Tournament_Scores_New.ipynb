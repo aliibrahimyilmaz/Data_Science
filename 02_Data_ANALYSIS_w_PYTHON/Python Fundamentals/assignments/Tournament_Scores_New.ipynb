{
 "cells": [
  {
   "cell_type": "code",
   "execution_count": 109,
   "metadata": {},
   "outputs": [],
   "source": [
    "def tournament_scores_new(lst):\n",
    "    points_dict = {\"A\" : 0, \"B\" : 0, \"C\" : 0, \"D\" : 0}\n",
    "    goals_dict = {\"A\" : 0, \"B\" : 0, \"C\" : 0, \"D\" : 0}\n",
    "    minus_dict = {\"A\" : 0, \"B\" : 0, \"C\" : 0, \"D\" : 0}\n",
    "    for i in lst:\n",
    "        if int(i[2]) > int(i[-3]):\n",
    "            points_dict[i[0]] += 3\n",
    "            points_dict[i[-1]] += 0\n",
    "        elif int(i[-3]) > int(i[2]):\n",
    "            points_dict[i[0]] += 0\n",
    "            points_dict[i[-1]] += 3\n",
    "        else:\n",
    "            points_dict[i[0]] += 1\n",
    "            points_dict[i[-1]] += 1\n",
    "    for i in lst:        \n",
    "        goals_dict[i[0]] += int(i[2])\n",
    "        goals_dict[i[-1]] += int(i[-3])\n",
    "        minus_dict[i[0]] += int(i[2])-int(i[-3])\n",
    "        minus_dict[i[-1]] += int(i[-3])-int(i[2])\n",
    "    final_order = [list(i) for i in zip(points_dict.keys(), points_dict.values(),\\\n",
    "                                        goals_dict.values(), minus_dict.values())]\n",
    "    final_order.sort(key = lambda x : x[1:], reverse = True)\n",
    "    return final_order"
   ]
  },
  {
   "cell_type": "code",
   "execution_count": 110,
   "metadata": {},
   "outputs": [
    {
     "data": {
      "text/plain": [
       "[['A', 6, 5, 3], ['D', 6, 5, 0], ['C', 4, 4, 0], ['B', 1, 4, -3]]"
      ]
     },
     "execution_count": 110,
     "metadata": {},
     "output_type": "execute_result"
    }
   ],
   "source": [
    "tournament_scores_new([\"A 2 - 1 B\", \"C 3 - 0 D\", \"B 1 - 1 C\", \"D 1 - 0 A\", \"A 3 - 0 C\", \"B 2 - 4 D\"])"
   ]
  }
 ],
 "metadata": {
  "kernelspec": {
   "display_name": "Python 3",
   "language": "python",
   "name": "python3"
  },
  "language_info": {
   "codemirror_mode": {
    "name": "ipython",
    "version": 3
   },
   "file_extension": ".py",
   "mimetype": "text/x-python",
   "name": "python",
   "nbconvert_exporter": "python",
   "pygments_lexer": "ipython3",
   "version": "3.7.6"
  }
 },
 "nbformat": 4,
 "nbformat_minor": 4
}
