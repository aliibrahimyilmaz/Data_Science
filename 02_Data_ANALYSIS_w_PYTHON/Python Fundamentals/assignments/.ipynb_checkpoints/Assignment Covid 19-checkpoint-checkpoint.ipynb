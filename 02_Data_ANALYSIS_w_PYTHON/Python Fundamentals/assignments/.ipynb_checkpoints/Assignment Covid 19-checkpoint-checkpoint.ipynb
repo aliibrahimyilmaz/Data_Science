{
 "cells": [
  {
   "cell_type": "code",
   "execution_count": 2,
   "metadata": {},
   "outputs": [
    {
     "name": "stdout",
     "output_type": "stream",
     "text": [
      "Are you a cigarette addict older than 75 years old? (Yes/No) :Yes\n",
      "Do you have a severe chronic disease? (Yes/No) :Yes\n",
      "Is your immune system too weak? (Yes/No) : Yes\n",
      "You are in risky group\n"
     ]
    }
   ],
   "source": [
    "older = input(\"Are you a cigarette addict older than 75 years old? (Yes/No) :\").strip().lower()\n",
    "disease = input(\"Do you have a severe chronic disease? (Yes/No) :\").strip().lower()\n",
    "weakness = input(\"Is your immune system too weak? (Yes/No) : \").strip().lower()\n",
    "\n",
    "if older == \"yes\":\n",
    "    age = bool(older)\n",
    "else:age = not bool(older)\n",
    "\n",
    "if disease == \"yes\":\n",
    "    chronic = bool(disease)\n",
    "else:chronic = not bool(disease)\n",
    "\n",
    "if weakness == \"yes\":\n",
    "    immune = bool(weakness)\n",
    "else:immune = not bool(weakness)\n",
    "    \n",
    "if age | chronic | immune:\n",
    "    print(\"You are in risky group\")\n",
    "else: print(\"You are not in risky group\")"
   ]
  },
  {
   "cell_type": "code",
   "execution_count": null,
   "metadata": {},
   "outputs": [],
   "source": []
  }
 ],
 "metadata": {
  "kernelspec": {
   "display_name": "Python 3",
   "language": "python",
   "name": "python3"
  },
  "language_info": {
   "codemirror_mode": {
    "name": "ipython",
    "version": 3
   },
   "file_extension": ".py",
   "mimetype": "text/x-python",
   "name": "python",
   "nbconvert_exporter": "python",
   "pygments_lexer": "ipython3",
   "version": "3.7.6"
  }
 },
 "nbformat": 4,
 "nbformat_minor": 4
}
