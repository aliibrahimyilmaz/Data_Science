{
 "cells": [
  {
   "cell_type": "code",
   "execution_count": 1,
   "metadata": {},
   "outputs": [
    {
     "name": "stdout",
     "output_type": "stream",
     "text": [
      "Enter a Sentence Please!: !!THE Quick BrowN FOX JumPS OVER ThE LAZY DOG.::$$%%&&\n",
      "{'q': 1, 'a': 1, 'o': 4, 'l': 1, 'e': 3, 'h': 2, 'b': 1, 'j': 1, 'g': 1, 'f': 1, ' ': 8, 'x': 1, '%': 2, 'k': 1, 'r': 2, 'c': 1, 'm': 1, 'y': 1, '!': 2, 'w': 1, 's': 1, ':': 2, '$': 2, 'd': 1, 'u': 2, 'z': 1, 'i': 1, 't': 2, '&': 2, 'v': 1, 'p': 1, 'n': 1, '.': 1}\n"
     ]
    }
   ],
   "source": [
    "sentence = input(\"Enter a Sentence Please!: \")\n",
    "my_set = set(sentence.lower())\n",
    "my_dict = {}\n",
    "for i in my_set:\n",
    "    my_dict[i] = sentence.lower().count(i)\n",
    "print(my_dict)"
   ]
  },
  {
   "cell_type": "code",
   "execution_count": null,
   "metadata": {},
   "outputs": [],
   "source": []
  }
 ],
 "metadata": {
  "kernelspec": {
   "display_name": "Python 3",
   "language": "python",
   "name": "python3"
  },
  "language_info": {
   "codemirror_mode": {
    "name": "ipython",
    "version": 3
   },
   "file_extension": ".py",
   "mimetype": "text/x-python",
   "name": "python",
   "nbconvert_exporter": "python",
   "pygments_lexer": "ipython3",
   "version": "3.7.6"
  }
 },
 "nbformat": 4,
 "nbformat_minor": 4
}
