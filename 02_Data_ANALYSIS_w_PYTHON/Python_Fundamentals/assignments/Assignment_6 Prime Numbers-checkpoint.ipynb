{
 "cells": [
  {
   "cell_type": "code",
   "execution_count": null,
   "metadata": {},
   "outputs": [],
   "source": [
    "num = int(input('Enter a positiv number to see the prime numbers until this number: ').strip())\n",
    "prime_list = []\n",
    "for j in range(num):\n",
    "    count = 0\n",
    "    for i in range(1,(j//2)+1):\n",
    "        if j % i == 0:\n",
    "            count += 1\n",
    "        if count > 1:\n",
    "            break    \n",
    "    if count == 1:\n",
    "        prime_list.append(j)\n",
    "prime_list"
   ]
  },
  {
   "cell_type": "code",
   "execution_count": null,
   "metadata": {},
   "outputs": [],
   "source": []
  }
 ],
 "metadata": {
  "kernelspec": {
   "display_name": "Python 3",
   "language": "python",
   "name": "python3"
  },
  "language_info": {
   "codemirror_mode": {
    "name": "ipython",
    "version": 3
   },
   "file_extension": ".py",
   "mimetype": "text/x-python",
   "name": "python",
   "nbconvert_exporter": "python",
   "pygments_lexer": "ipython3",
   "version": "3.7.6"
  }
 },
 "nbformat": 4,
 "nbformat_minor": 4
}
