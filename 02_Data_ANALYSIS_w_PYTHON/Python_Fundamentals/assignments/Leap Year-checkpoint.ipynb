{
 "cells": [
  {
   "cell_type": "code",
   "execution_count": null,
   "metadata": {},
   "outputs": [],
   "source": [
    "def leap_year(year):\n",
    "    if (year % 4 == 0) and not (year % 100 == 0):\n",
    "        print(f\"{year} is a leap year\")\n",
    "    elif (year % 400 == 0):\n",
    "        print(f\"{year} is a leap year\")\n",
    "    else: print(f\"{year} is not a leap year\")\n",
    "\n",
    "year = int(input(\"Enter year in 4 digits: \"))    \n",
    "leap_year(year)"
   ]
  },
  {
   "cell_type": "code",
   "execution_count": null,
   "metadata": {},
   "outputs": [],
   "source": []
  }
 ],
 "metadata": {
  "kernelspec": {
   "display_name": "Python 3",
   "language": "python",
   "name": "python3"
  },
  "language_info": {
   "codemirror_mode": {
    "name": "ipython",
    "version": 3
   },
   "file_extension": ".py",
   "mimetype": "text/x-python",
   "name": "python",
   "nbconvert_exporter": "python",
   "pygments_lexer": "ipython3",
   "version": "3.7.6"
  }
 },
 "nbformat": 4,
 "nbformat_minor": 4
}
