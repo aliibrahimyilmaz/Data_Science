{
 "cells": [
  {
   "cell_type": "code",
   "execution_count": 13,
   "metadata": {},
   "outputs": [
    {
     "name": "stdout",
     "output_type": "stream",
     "text": [
      "Enter an integer number : 234,45\n",
      "It is an invalid entry. Don't use non-numeric, float, or negative values!\n",
      "Enter an integer number : sdfsd\n",
      "It is an invalid entry. Don't use non-numeric, float, or negative values!\n",
      "Enter an integer number : 234.56\n",
      "It is an invalid entry. Don't use non-numeric, float, or negative values!\n",
      "Enter an integer number : 5\n",
      "5 is an Armstrong number\n"
     ]
    }
   ],
   "source": [
    "# 1.Version\n",
    "num = input(\"Enter an integer number : \")\n",
    "while not num.isdecimal():\n",
    "    print(\"It is an invalid entry. Don't use non-numeric, \\\n",
    "float, or negative values!\")\n",
    "    num = input(\"Enter an integer number : \")\n",
    "num_origin, num_list = int(num), list(num)\n",
    "digit = len(num_list)\n",
    "num_int = []\n",
    "summe = 0\n",
    "i=0\n",
    "while i < digit:\n",
    "    num_int.append(int(num_list[i]))\n",
    "    summe += num_int[i] ** digit\n",
    "    i += 1\n",
    "if summe == num_origin:\n",
    "    print(\"{} is an Armstrong number\".format(num_origin))\n",
    "else: print(\"{} is not an Armstrong number\".format(num_origin))"
   ]
  },
  {
   "cell_type": "code",
   "execution_count": 18,
   "metadata": {},
   "outputs": [
    {
     "name": "stdout",
     "output_type": "stream",
     "text": [
      "Enter an integer number : 23.5\n",
      "It is an invalid entry. Don't use non-numeric, float, or negative values!\n",
      "Enter an integer number : 23,66\n",
      "It is an invalid entry. Don't use non-numeric, float, or negative values!\n",
      "Enter an integer number : -123\n",
      "It is an invalid entry. Don't use non-numeric, float, or negative values!\n",
      "Enter an integer number : sdfsg\n",
      "It is an invalid entry. Don't use non-numeric, float, or negative values!\n",
      "Enter an integer number : 0\n",
      "0 is an Armstrong number\n"
     ]
    }
   ],
   "source": [
    "# 2.Version\n",
    "num = input(\"Enter an integer number : \")\n",
    "while not num.isdecimal():\n",
    "    print(\"It is an invalid entry. Don't use non-numeric, \\\n",
    "float, or negative values!\")\n",
    "    num = input(\"Enter an integer number : \")\n",
    "num_list = list(num)\n",
    "digit = len(num_list)\n",
    "summe = 0\n",
    "for i in num_list:\n",
    "    i = int(i)\n",
    "    summe += i ** digit\n",
    "if summe == int(num):\n",
    "    print(\"{} is an Armstrong number\".format(num))\n",
    "else: print(\"{} is not an Armstrong number\".format(num))"
   ]
  }
 ],
 "metadata": {
  "kernelspec": {
   "display_name": "Python 3",
   "language": "python",
   "name": "python3"
  },
  "language_info": {
   "codemirror_mode": {
    "name": "ipython",
    "version": 3
   },
   "file_extension": ".py",
   "mimetype": "text/x-python",
   "name": "python",
   "nbconvert_exporter": "python",
   "pygments_lexer": "ipython3",
   "version": "3.7.6"
  }
 },
 "nbformat": 4,
 "nbformat_minor": 4
}
