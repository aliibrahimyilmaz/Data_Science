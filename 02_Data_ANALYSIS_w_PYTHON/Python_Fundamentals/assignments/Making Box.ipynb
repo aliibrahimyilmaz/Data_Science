{
 "cells": [
  {
   "cell_type": "code",
   "execution_count": 8,
   "metadata": {},
   "outputs": [
    {
     "data": {
      "text/plain": [
       "['#######', '#     #', '#     #', '#     #', '#     #', '#     #', '#######']"
      ]
     },
     "execution_count": 8,
     "metadata": {},
     "output_type": "execute_result"
    }
   ],
   "source": [
    "def make_box(n):\n",
    "    my_list = []\n",
    "    my_list.append(n*\"#\")\n",
    "    if n > 1:\n",
    "        count = 0\n",
    "        while count != n-2:\n",
    "            my_list.append(\"#\"+(n-2)*\" \"+\"#\")\n",
    "            count += 1\n",
    "        my_list.append(n*\"#\")\n",
    "        return my_list\n",
    "    elif n > 0: \n",
    "        return my_list\n",
    "    else : \n",
    "        print(\"Please enter positive number!\")\n",
    "make_box(7)"
   ]
  },
  {
   "cell_type": "code",
   "execution_count": null,
   "metadata": {},
   "outputs": [],
   "source": []
  }
 ],
 "metadata": {
  "kernelspec": {
   "display_name": "Python 3",
   "language": "python",
   "name": "python3"
  },
  "language_info": {
   "codemirror_mode": {
    "name": "ipython",
    "version": 3
   },
   "file_extension": ".py",
   "mimetype": "text/x-python",
   "name": "python",
   "nbconvert_exporter": "python",
   "pygments_lexer": "ipython3",
   "version": "3.7.6"
  }
 },
 "nbformat": 4,
 "nbformat_minor": 4
}
