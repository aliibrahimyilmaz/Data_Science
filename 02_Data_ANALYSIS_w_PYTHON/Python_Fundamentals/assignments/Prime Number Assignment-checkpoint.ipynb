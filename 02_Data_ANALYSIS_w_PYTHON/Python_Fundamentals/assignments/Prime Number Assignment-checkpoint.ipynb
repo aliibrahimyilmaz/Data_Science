{
 "cells": [
  {
   "cell_type": "code",
   "execution_count": null,
   "metadata": {},
   "outputs": [],
   "source": [
    "num = input('Enter a number please: ').strip()\n",
    "while True:\n",
    "    while (num == \"0\" or num == \"1\" or not num.isdecimal()):\n",
    "        print(\"{} is not a prime number \".format(num))\n",
    "        num = input('Enter a number please : ').strip()\n",
    "    num = int(num)\n",
    "    count = 0\n",
    "    for i in range(1,10):\n",
    "        if num % i == 0:\n",
    "            count += 1\n",
    "    if (count <= 2) & (num == 0 or num == 1 or not str(num).isdecimal() or num == \"0\" or num == \"1\"):\n",
    "        print(\"{} is not a prime number \".format(num))\n",
    "        num = input('Enter a number please : ').strip()\n",
    "    elif (count <= 2):\n",
    "        print(\"{} is a prime number\".format(num))\n",
    "        break\n",
    "    else:\n",
    "        print(\"{} is not a prime number\".format(num))\n",
    "        num = input('Enter a number please : ').strip()"
   ]
  }
 ],
 "metadata": {
  "kernelspec": {
   "display_name": "Python 3",
   "language": "python",
   "name": "python3"
  },
  "language_info": {
   "codemirror_mode": {
    "name": "ipython",
    "version": 3
   },
   "file_extension": ".py",
   "mimetype": "text/x-python",
   "name": "python",
   "nbconvert_exporter": "python",
   "pygments_lexer": "ipython3",
   "version": "3.7.6"
  }
 },
 "nbformat": 4,
 "nbformat_minor": 4
}
