{
 "cells": [
  {
   "cell_type": "code",
   "execution_count": 1,
   "metadata": {},
   "outputs": [
    {
     "name": "stdout",
     "output_type": "stream",
     "text": [
      "Enter a number please: 0\n",
      "0 is not a prime number \n",
      "Enter a number please : 1\n",
      "1 is not a prime number \n",
      "Enter a number please : 3\n",
      "1\n",
      "3 is a prime number\n"
     ]
    }
   ],
   "source": [
    "num = input('Enter a number please: ').strip()\n",
    "while True:\n",
    "    while (num == \"0\" or num == \"1\" or not num.isdecimal()):\n",
    "        print(\"{} is not a prime number \".format(num))\n",
    "        num = input('Enter a number please : ').strip()\n",
    "    num = int(num)\n",
    "    count = 0\n",
    "    for i in range(1,(num//2)+1):\n",
    "        if num % i == 0:\n",
    "            print(i)\n",
    "            count += 1\n",
    "    if (count <= 2) & (num == 0 or num == 1 or not str(num).isdecimal() or num == \"0\" or num == \"1\"):\n",
    "        print(\"{} is not a prime number \".format(num))\n",
    "        num = input('Enter a number please : ').strip()\n",
    "    elif (count == 1):\n",
    "        print(\"{} is a prime number\".format(num))\n",
    "        break\n",
    "    else:\n",
    "        print(\"{} is not a prime number\".format(num))\n",
    "        num = input('Enter a number please : ').strip()"
   ]
  },
  {
   "cell_type": "code",
   "execution_count": null,
   "metadata": {},
   "outputs": [],
   "source": []
  }
 ],
 "metadata": {
  "kernelspec": {
   "display_name": "Python 3",
   "language": "python",
   "name": "python3"
  },
  "language_info": {
   "codemirror_mode": {
    "name": "ipython",
    "version": 3
   },
   "file_extension": ".py",
   "mimetype": "text/x-python",
   "name": "python",
   "nbconvert_exporter": "python",
   "pygments_lexer": "ipython3",
   "version": "3.7.6"
  }
 },
 "nbformat": 4,
 "nbformat_minor": 4
}
