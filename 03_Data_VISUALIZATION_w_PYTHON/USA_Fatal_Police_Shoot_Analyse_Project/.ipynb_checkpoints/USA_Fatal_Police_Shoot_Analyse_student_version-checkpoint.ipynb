{
 "cells": [
  {
   "cell_type": "code",
   "execution_count": 2,
   "metadata": {
    "_cell_guid": "5fdcd462-5466-40f5-9992-dc31a9a174f2",
    "_uuid": "dab5021d92c7210270cec270470e4ae179a1de01"
   },
   "outputs": [],
   "source": [
    "import numpy as np \n",
    "import pandas as pd\n",
    "import seaborn as sns\n",
    "import matplotlib.pyplot as plt\n",
    "from collections import Counter\n",
    "import warnings\n",
    "warnings.filterwarnings('ignore') "
   ]
  },
  {
   "cell_type": "markdown",
   "metadata": {},
   "source": [
    "INSTRUCTIONS\n",
    "1. Mean poverty rate of each state\n",
    "1. Most common 15 Name or Surname of killed people\n",
    "1. Killed People According to Races\n",
    "1. Box and Swarm Plots in kill data\n",
    "1. Kill properties (Count Plot)\n",
    "    * Number of people by gender\n",
    "    * Kill weapon\n",
    "    * Age of killed people\n",
    "    * Race of killed people\n",
    "    * Most dangerous cities\n",
    "    * Most dangerous states\n",
    "    * Having mental ilness or not for killed people\n",
    "    * Threat types\n",
    "    * Flee types\n",
    "<br>"
   ]
  },
  {
   "cell_type": "code",
   "execution_count": 3,
   "metadata": {
    "_cell_guid": "abb0685f-f844-43f8-84c0-4cd54361c7bf",
    "_uuid": "9c06ed7c41db79ae9d940f2d52aeff23621b3037"
   },
   "outputs": [],
   "source": [
    "pr = pd.read_csv('PercentagePeopleBelowPovertyLevel.csv', encoding=\"windows-1252\")\n",
    "sr = pd.read_csv('ShareRaceByCity.csv', encoding=\"windows-1252\")\n",
    "kill = pd.read_csv('PoliceKillingsUS.csv', encoding=\"windows-1252\")"
   ]
  },
  {
   "cell_type": "markdown",
   "metadata": {},
   "source": [
    "## 1. Mean poverty rate of each state"
   ]
  },
  {
   "cell_type": "code",
   "execution_count": 4,
   "metadata": {},
   "outputs": [
    {
     "data": {
      "text/html": [
       "<div>\n",
       "<style scoped>\n",
       "    .dataframe tbody tr th:only-of-type {\n",
       "        vertical-align: middle;\n",
       "    }\n",
       "\n",
       "    .dataframe tbody tr th {\n",
       "        vertical-align: top;\n",
       "    }\n",
       "\n",
       "    .dataframe thead th {\n",
       "        text-align: right;\n",
       "    }\n",
       "</style>\n",
       "<table border=\"1\" class=\"dataframe\">\n",
       "  <thead>\n",
       "    <tr style=\"text-align: right;\">\n",
       "      <th></th>\n",
       "      <th>Geographic Area</th>\n",
       "      <th>City</th>\n",
       "      <th>poverty_rate</th>\n",
       "    </tr>\n",
       "  </thead>\n",
       "  <tbody>\n",
       "    <tr>\n",
       "      <th>0</th>\n",
       "      <td>AL</td>\n",
       "      <td>Abanda CDP</td>\n",
       "      <td>78.8</td>\n",
       "    </tr>\n",
       "    <tr>\n",
       "      <th>1</th>\n",
       "      <td>AL</td>\n",
       "      <td>Abbeville city</td>\n",
       "      <td>29.1</td>\n",
       "    </tr>\n",
       "    <tr>\n",
       "      <th>2</th>\n",
       "      <td>AL</td>\n",
       "      <td>Adamsville city</td>\n",
       "      <td>25.5</td>\n",
       "    </tr>\n",
       "    <tr>\n",
       "      <th>3</th>\n",
       "      <td>AL</td>\n",
       "      <td>Addison town</td>\n",
       "      <td>30.7</td>\n",
       "    </tr>\n",
       "    <tr>\n",
       "      <th>4</th>\n",
       "      <td>AL</td>\n",
       "      <td>Akron town</td>\n",
       "      <td>42</td>\n",
       "    </tr>\n",
       "  </tbody>\n",
       "</table>\n",
       "</div>"
      ],
      "text/plain": [
       "  Geographic Area             City poverty_rate\n",
       "0              AL       Abanda CDP         78.8\n",
       "1              AL   Abbeville city         29.1\n",
       "2              AL  Adamsville city         25.5\n",
       "3              AL     Addison town         30.7\n",
       "4              AL       Akron town           42"
      ]
     },
     "execution_count": 4,
     "metadata": {},
     "output_type": "execute_result"
    }
   ],
   "source": [
    "pr.head()"
   ]
  },
  {
   "cell_type": "code",
   "execution_count": 6,
   "metadata": {},
   "outputs": [
    {
     "data": {
      "text/plain": [
       "0       1464\n",
       "-        201\n",
       "6.7      129\n",
       "7.4      129\n",
       "10.9     128\n",
       "        ... \n",
       "70         1\n",
       "55.5       1\n",
       "80.2       1\n",
       "92.3       1\n",
       "69.1       1\n",
       "Name: poverty_rate, Length: 771, dtype: int64"
      ]
     },
     "execution_count": 6,
     "metadata": {},
     "output_type": "execute_result"
    }
   ],
   "source": [
    "pr.poverty_rate.value_counts()"
   ]
  },
  {
   "cell_type": "raw",
   "metadata": {},
   "source": [
    "Problem: We don't know what does \"-\" mean. We need to clean it. Maybe we can consider it as 0."
   ]
  },
  {
   "cell_type": "markdown",
   "metadata": {},
   "source": [
    "**INSTRUCTION-1: replace the \"-\" with zero.**"
   ]
  },
  {
   "cell_type": "code",
   "execution_count": 7,
   "metadata": {},
   "outputs": [],
   "source": [
    "pr.poverty_rate.replace(['-'],0.0,inplace = True)"
   ]
  },
  {
   "cell_type": "code",
   "execution_count": 8,
   "metadata": {},
   "outputs": [
    {
     "name": "stdout",
     "output_type": "stream",
     "text": [
      "<class 'pandas.core.frame.DataFrame'>\n",
      "RangeIndex: 29329 entries, 0 to 29328\n",
      "Data columns (total 3 columns):\n",
      " #   Column           Non-Null Count  Dtype \n",
      "---  ------           --------------  ----- \n",
      " 0   Geographic Area  29329 non-null  object\n",
      " 1   City             29329 non-null  object\n",
      " 2   poverty_rate     29329 non-null  object\n",
      "dtypes: object(3)\n",
      "memory usage: 687.5+ KB\n"
     ]
    }
   ],
   "source": [
    "pr.info()"
   ]
  },
  {
   "cell_type": "raw",
   "metadata": {},
   "source": [
    "Problem: data type of poverty_rate colum is object. We need to convert it to a numeric type (float)."
   ]
  },
  {
   "cell_type": "markdown",
   "metadata": {},
   "source": [
    "**INSTRUCTION-2 : Convert type of poverty_rate colum to a numeric type (float).**"
   ]
  },
  {
   "cell_type": "code",
   "execution_count": 9,
   "metadata": {},
   "outputs": [
    {
     "name": "stdout",
     "output_type": "stream",
     "text": [
      "<class 'pandas.core.frame.DataFrame'>\n",
      "RangeIndex: 29329 entries, 0 to 29328\n",
      "Data columns (total 3 columns):\n",
      " #   Column           Non-Null Count  Dtype  \n",
      "---  ------           --------------  -----  \n",
      " 0   Geographic Area  29329 non-null  object \n",
      " 1   City             29329 non-null  object \n",
      " 2   poverty_rate     29329 non-null  float64\n",
      "dtypes: float64(1), object(2)\n",
      "memory usage: 687.5+ KB\n"
     ]
    }
   ],
   "source": [
    "pr[\"poverty_rate\"] = pr[\"poverty_rate\"].astype(\"float64\")\n",
    "pr.info()"
   ]
  },
  {
   "cell_type": "markdown",
   "metadata": {},
   "source": [
    "**INSTRUCTION-3 : Plot the Poverty rate of each state. (Demonstrate mean value of each Geogrophic Area (AL, AK, AR).)**"
   ]
  },
  {
   "cell_type": "markdown",
   "metadata": {},
   "source": [
    "**INSTRUCTION-3.a.1 : Plot With Pandas Built in method:**"
   ]
  },
  {
   "cell_type": "code",
   "execution_count": 36,
   "metadata": {},
   "outputs": [
    {
     "data": {
      "image/png": "[encoded data removed]",
      "text/plain": [
       "<Figure size 1080x576 with 1 Axes>"
      ]
     },
     "metadata": {
      "needs_background": "light"
     },
     "output_type": "display_data"
    }
   ],
   "source": [
    "pr.groupby(\"Geographic Area\")[\"poverty_rate\"].mean().plot.bar(figsize = (15,8), rot = 45, legend = True)\n",
    "plt.title(\"Poverty Rate Given States\")\n",
    "plt.xlabel(\"States\")\n",
    "plt.ylabel(\"Poverty Rate\")\n",
    "plt.show()"
   ]
  },
  {
   "cell_type": "code",
   "execution_count": 8,
   "metadata": {},
   "outputs": [
    {
     "data": {
      "image/png": "[encoded data removed]",
      "text/plain": [
       "<Figure size 1080x576 with 1 Axes>"
      ]
     },
     "metadata": {
      "needs_background": "light"
     },
     "output_type": "display_data"
    }
   ],
   "source": []
  },
  {
   "cell_type": "markdown",
   "metadata": {},
   "source": [
    "**INSTRUCTION-3.a.2 : Plot Sorted Values With Pandas Built in method:**"
   ]
  },
  {
   "cell_type": "code",
   "execution_count": 39,
   "metadata": {},
   "outputs": [
    {
     "data": {
      "image/png": "[encoded data removed]",
      "text/plain": [
       "<Figure size 1080x576 with 1 Axes>"
      ]
     },
     "metadata": {
      "needs_background": "light"
     },
     "output_type": "display_data"
    }
   ],
   "source": [
    "pr.groupby(\"Geographic Area\")[\"poverty_rate\"].mean().sort_values(ascending = False).plot.bar(figsize = (15,8), rot = 45, legend = True)\n",
    "plt.title(\"Poverty Rate Given States\")\n",
    "plt.xlabel(\"States\")\n",
    "plt.ylabel(\"Poverty Rate\")\n",
    "plt.show()"
   ]
  },
  {
   "cell_type": "code",
   "execution_count": 11,
   "metadata": {},
   "outputs": [
    {
     "data": {
      "image/png": "[encoded data removed]",
      "text/plain": [
       "<Figure size 1080x576 with 1 Axes>"
      ]
     },
     "metadata": {
      "needs_background": "light"
     },
     "output_type": "display_data"
    }
   ],
   "source": []
  },
  {
   "cell_type": "markdown",
   "metadata": {},
   "source": [
    "**INSTRUCTION-3.b : Plot Sorted Values With Matplotlib:** "
   ]
  },
  {
   "cell_type": "code",
   "execution_count": 40,
   "metadata": {},
   "outputs": [],
   "source": [
    "pr_plt = pr.groupby(\"Geographic Area\")[\"poverty_rate\"].mean().sort_values(ascending = False)"
   ]
  },
  {
   "cell_type": "code",
   "execution_count": 51,
   "metadata": {},
   "outputs": [
    {
     "data": {
      "text/plain": [
       "array([26.88425414, 25.26807095, 23.66363636, 22.96321627, 22.50767494,\n",
       "       22.29177215, 22.10555556, 21.08222222, 20.61179487, 20.54589502,\n",
       "       20.08      , 19.93068732, 19.8872093 , 19.72056834, 19.4962221 ,\n",
       "       18.67859155, 18.07621145, 18.        , 17.90072254, 17.50860566,\n",
       "       16.89384615, 16.88837057, 16.43580902, 16.42328767, 15.74526854,\n",
       "       15.49985294, 14.82666667, 14.82599681, 14.71904762, 14.58583474,\n",
       "       13.84934211, 13.78595041, 13.74573643, 13.40066225, 13.18777293,\n",
       "       12.91741379, 12.85868726, 12.65979381, 12.55584416, 12.48717367,\n",
       "       12.37099237, 12.23154762, 12.1319202 , 11.72461538, 11.63896321,\n",
       "       10.36944444, 10.27239382,  9.54634146,  9.1375    ,  9.06372549,\n",
       "        8.16091743])"
      ]
     },
     "execution_count": 51,
     "metadata": {},
     "output_type": "execute_result"
    }
   ],
   "source": [
    "pr_plt.values"
   ]
  },
  {
   "cell_type": "code",
   "execution_count": 53,
   "metadata": {},
   "outputs": [
    {
     "data": {
      "text/plain": [
       "Index(['MS', 'AZ', 'GA', 'AR', 'NM', 'LA', 'SC', 'WV', 'AL', 'OK', 'KY', 'MO',\n",
       "       'TN', 'NC', 'TX', 'AK', 'ID', 'DC', 'MI', 'FL', 'ME', 'CA', 'OR', 'MT',\n",
       "       'SD', 'IN', 'OH', 'WA', 'KS', 'VA', 'IL', 'VT', 'MN', 'HI', 'CO', 'NE',\n",
       "       'WI', 'NH', 'DE', 'PA', 'NV', 'IA', 'ND', 'UT', 'NY', 'RI', 'MD', 'MA',\n",
       "       'CT', 'WY', 'NJ'],\n",
       "      dtype='object', name='Geographic Area')"
      ]
     },
     "execution_count": 53,
     "metadata": {},
     "output_type": "execute_result"
    }
   ],
   "source": [
    "pr_plt.index"
   ]
  },
  {
   "cell_type": "code",
   "execution_count": 68,
   "metadata": {},
   "outputs": [
    {
     "data": {
      "image/png": "[encoded data removed]",
      "text/plain": [
       "<Figure size 1080x576 with 1 Axes>"
      ]
     },
     "metadata": {
      "needs_background": "light"
     },
     "output_type": "display_data"
    }
   ],
   "source": [
    "plt.figure(figsize = (15, 8))\n",
    "plt.bar(pr_plt.index, pr_plt.values)\n",
    "plt.title(\"Poverty Rate Given States\")\n",
    "plt.xlabel(\"States\")\n",
    "plt.ylabel(\"Poverty Rate\")\n",
    "plt.xticks(rotation=45)\n",
    "plt.show()"
   ]
  },
  {
   "cell_type": "code",
   "execution_count": 14,
   "metadata": {},
   "outputs": [
    {
     "data": {
      "text/plain": [
       "Text(0.5, 1.0, 'Poverty Rate Given States')"
      ]
     },
     "execution_count": 14,
     "metadata": {},
     "output_type": "execute_result"
    },
    {
     "data": {
      "image/png": "[encoded data removed]",
      "text/plain": [
       "<Figure size 1080x576 with 1 Axes>"
      ]
     },
     "metadata": {
      "needs_background": "light"
     },
     "output_type": "display_data"
    }
   ],
   "source": []
  },
  {
   "cell_type": "markdown",
   "metadata": {},
   "source": [
    "**INSTRUCTION-3.c : Plot Sorted Values With Seaborn** "
   ]
  },
  {
   "cell_type": "code",
   "execution_count": 71,
   "metadata": {},
   "outputs": [
    {
     "data": {
      "image/png": "[encoded data removed]",
      "text/plain": [
       "<Figure size 1080x576 with 1 Axes>"
      ]
     },
     "metadata": {
      "needs_background": "light"
     },
     "output_type": "display_data"
    }
   ],
   "source": [
    "plt.figure(figsize = (15, 8))\n",
    "sns.barplot(pr_plt.index, pr_plt.values)\n",
    "plt.title(\"Poverty Rate Given States\")\n",
    "plt.xlabel(\"States\")\n",
    "plt.ylabel(\"Poverty Rate\")\n",
    "plt.xticks(rotation=45)\n",
    "plt.show()"
   ]
  },
  {
   "cell_type": "code",
   "execution_count": 15,
   "metadata": {},
   "outputs": [
    {
     "data": {
      "image/png": "[encoded data removed]",
      "text/plain": [
       "<Figure size 1080x576 with 1 Axes>"
      ]
     },
     "metadata": {
      "needs_background": "light"
     },
     "output_type": "display_data"
    }
   ],
   "source": []
  },
  {
   "cell_type": "markdown",
   "metadata": {},
   "source": [
    "## 2. Most common 15 Name or Surname of killed people "
   ]
  },
  {
   "cell_type": "code",
   "execution_count": 4,
   "metadata": {
    "_uuid": "bfb975b648fbcbd1c6cdf1634f01e01371924a8c"
   },
   "outputs": [
    {
     "data": {
      "text/html": [
       "<div>\n",
       "<style scoped>\n",
       "    .dataframe tbody tr th:only-of-type {\n",
       "        vertical-align: middle;\n",
       "    }\n",
       "\n",
       "    .dataframe tbody tr th {\n",
       "        vertical-align: top;\n",
       "    }\n",
       "\n",
       "    .dataframe thead th {\n",
       "        text-align: right;\n",
       "    }\n",
       "</style>\n",
       "<table border=\"1\" class=\"dataframe\">\n",
       "  <thead>\n",
       "    <tr style=\"text-align: right;\">\n",
       "      <th></th>\n",
       "      <th>id</th>\n",
       "      <th>name</th>\n",
       "      <th>date</th>\n",
       "      <th>manner_of_death</th>\n",
       "      <th>armed</th>\n",
       "      <th>age</th>\n",
       "      <th>gender</th>\n",
       "      <th>race</th>\n",
       "      <th>city</th>\n",
       "      <th>state</th>\n",
       "      <th>signs_of_mental_illness</th>\n",
       "      <th>threat_level</th>\n",
       "      <th>flee</th>\n",
       "      <th>body_camera</th>\n",
       "    </tr>\n",
       "  </thead>\n",
       "  <tbody>\n",
       "    <tr>\n",
       "      <th>0</th>\n",
       "      <td>3</td>\n",
       "      <td>Tim Elliot</td>\n",
       "      <td>02/01/15</td>\n",
       "      <td>shot</td>\n",
       "      <td>gun</td>\n",
       "      <td>53.0</td>\n",
       "      <td>M</td>\n",
       "      <td>A</td>\n",
       "      <td>Shelton</td>\n",
       "      <td>WA</td>\n",
       "      <td>True</td>\n",
       "      <td>attack</td>\n",
       "      <td>Not fleeing</td>\n",
       "      <td>False</td>\n",
       "    </tr>\n",
       "    <tr>\n",
       "      <th>1</th>\n",
       "      <td>4</td>\n",
       "      <td>Lewis Lee Lembke</td>\n",
       "      <td>02/01/15</td>\n",
       "      <td>shot</td>\n",
       "      <td>gun</td>\n",
       "      <td>47.0</td>\n",
       "      <td>M</td>\n",
       "      <td>W</td>\n",
       "      <td>Aloha</td>\n",
       "      <td>OR</td>\n",
       "      <td>False</td>\n",
       "      <td>attack</td>\n",
       "      <td>Not fleeing</td>\n",
       "      <td>False</td>\n",
       "    </tr>\n",
       "    <tr>\n",
       "      <th>2</th>\n",
       "      <td>5</td>\n",
       "      <td>John Paul Quintero</td>\n",
       "      <td>03/01/15</td>\n",
       "      <td>shot and Tasered</td>\n",
       "      <td>unarmed</td>\n",
       "      <td>23.0</td>\n",
       "      <td>M</td>\n",
       "      <td>H</td>\n",
       "      <td>Wichita</td>\n",
       "      <td>KS</td>\n",
       "      <td>False</td>\n",
       "      <td>other</td>\n",
       "      <td>Not fleeing</td>\n",
       "      <td>False</td>\n",
       "    </tr>\n",
       "    <tr>\n",
       "      <th>3</th>\n",
       "      <td>8</td>\n",
       "      <td>Matthew Hoffman</td>\n",
       "      <td>04/01/15</td>\n",
       "      <td>shot</td>\n",
       "      <td>toy weapon</td>\n",
       "      <td>32.0</td>\n",
       "      <td>M</td>\n",
       "      <td>W</td>\n",
       "      <td>San Francisco</td>\n",
       "      <td>CA</td>\n",
       "      <td>True</td>\n",
       "      <td>attack</td>\n",
       "      <td>Not fleeing</td>\n",
       "      <td>False</td>\n",
       "    </tr>\n",
       "    <tr>\n",
       "      <th>4</th>\n",
       "      <td>9</td>\n",
       "      <td>Michael Rodriguez</td>\n",
       "      <td>04/01/15</td>\n",
       "      <td>shot</td>\n",
       "      <td>nail gun</td>\n",
       "      <td>39.0</td>\n",
       "      <td>M</td>\n",
       "      <td>H</td>\n",
       "      <td>Evans</td>\n",
       "      <td>CO</td>\n",
       "      <td>False</td>\n",
       "      <td>attack</td>\n",
       "      <td>Not fleeing</td>\n",
       "      <td>False</td>\n",
       "    </tr>\n",
       "  </tbody>\n",
       "</table>\n",
       "</div>"
      ],
      "text/plain": [
       "   id                name      date   manner_of_death       armed   age  \\\n",
       "0   3          Tim Elliot  02/01/15              shot         gun  53.0   \n",
       "1   4    Lewis Lee Lembke  02/01/15              shot         gun  47.0   \n",
       "2   5  John Paul Quintero  03/01/15  shot and Tasered     unarmed  23.0   \n",
       "3   8     Matthew Hoffman  04/01/15              shot  toy weapon  32.0   \n",
       "4   9   Michael Rodriguez  04/01/15              shot    nail gun  39.0   \n",
       "\n",
       "  gender race           city state  signs_of_mental_illness threat_level  \\\n",
       "0      M    A        Shelton    WA                     True       attack   \n",
       "1      M    W          Aloha    OR                    False       attack   \n",
       "2      M    H        Wichita    KS                    False        other   \n",
       "3      M    W  San Francisco    CA                     True       attack   \n",
       "4      M    H          Evans    CO                    False       attack   \n",
       "\n",
       "          flee  body_camera  \n",
       "0  Not fleeing        False  \n",
       "1  Not fleeing        False  \n",
       "2  Not fleeing        False  \n",
       "3  Not fleeing        False  \n",
       "4  Not fleeing        False  "
      ]
     },
     "execution_count": 4,
     "metadata": {},
     "output_type": "execute_result"
    }
   ],
   "source": [
    "kill.head()"
   ]
  },
  {
   "cell_type": "code",
   "execution_count": 5,
   "metadata": {},
   "outputs": [
    {
     "data": {
      "text/plain": [
       "TK TK                       49\n",
       "Daquan Antonio Westbrook     2\n",
       "Eric Harris                  2\n",
       "TK Tk                        2\n",
       "Michael Brown                2\n",
       "                            ..\n",
       "Ryan A. Probst               1\n",
       "Angel Montion                1\n",
       "Lance Light                  1\n",
       "Carlos Valencia              1\n",
       "David Lepine                 1\n",
       "Name: name, Length: 2481, dtype: int64"
      ]
     },
     "execution_count": 5,
     "metadata": {},
     "output_type": "execute_result"
    }
   ],
   "source": [
    "kill.name.value_counts(dropna=False)"
   ]
  },
  {
   "cell_type": "code",
   "execution_count": 6,
   "metadata": {
    "_cell_guid": "c2cd6681-42a4-44c2-ba1a-46d4d61b6eea",
    "_uuid": "b3b53866f9c794ca5f85f59bc5bfc0d01a830baf",
    "scrolled": true
   },
   "outputs": [
    {
     "data": {
      "text/plain": [
       "0             [Tim, Elliot]\n",
       "1      [Lewis, Lee, Lembke]\n",
       "2    [John, Paul, Quintero]\n",
       "3        [Matthew, Hoffman]\n",
       "4      [Michael, Rodriguez]\n",
       "Name: name, dtype: object"
      ]
     },
     "execution_count": 6,
     "metadata": {},
     "output_type": "execute_result"
    }
   ],
   "source": [
    "# Problem: TK TK is most probably not a name or surname. We will clean them.\n",
    "pairs = kill.name[(kill.name != 'TK TK') & (kill.name != 'TK Tk')].str.split()\n",
    "pairs.head()"
   ]
  },
  {
   "cell_type": "markdown",
   "metadata": {},
   "source": [
    "**INSTRUCTION : Plot Most common 15 Name or Surname of killed people** "
   ]
  },
  {
   "cell_type": "raw",
   "metadata": {},
   "source": [
    "# Clue 1: You need to separate the names and surnames because we are asking most common name OR surname.\n",
    "\n",
    "# Clue 2 :After seperation make a whole list that contains both names and surnames.\n",
    "\n",
    "# Clue 3 : How to separate the name and surname pairs?\n",
    "\n",
    ">>> pairs = [(1, 'a'), (2, 'b'), (3, 'c'), (4, 'd')]\n",
    ">>> numbers, letters = zip(*pairs)\n",
    ">>> numbers\n",
    "(1, 2, 3, 4)\n",
    ">>> letters\n",
    "('a', 'b', 'c', 'd')\n",
    "\n",
    "# Clue 4: You can use Counter() and most_common() built in functions together to find the most common names or surnames, or you can write your functions for this purpose."
   ]
  },
  {
   "cell_type": "code",
   "execution_count": 7,
   "metadata": {},
   "outputs": [],
   "source": [
    "name, surname = zip(*pairs)"
   ]
  },
  {
   "cell_type": "code",
   "execution_count": 8,
   "metadata": {},
   "outputs": [
    {
     "data": {
      "text/plain": [
       "list"
      ]
     },
     "execution_count": 8,
     "metadata": {},
     "output_type": "execute_result"
    }
   ],
   "source": [
    "name = list(name)\n",
    "surname = list(surname)\n",
    "type(surname)"
   ]
  },
  {
   "cell_type": "code",
   "execution_count": 9,
   "metadata": {},
   "outputs": [
    {
     "name": "stdout",
     "output_type": "stream",
     "text": [
      "Elliot\n",
      "Lee\n",
      "Paul\n",
      "Hoffman\n",
      "Rodriguez\n",
      "Joe\n",
      "Arnold\n",
      "Nichols\n",
      "Steele\n",
      "Sapp\n",
      "Wetter\n",
      "Sneed\n",
      "Hanif\n",
      "Ryan\n",
      "Julian\n",
      "Simpson\n",
      "Dudley\n",
      "Damon\n",
      "Hamby\n",
      "Foreman\n",
      "Martinez\n",
      "Smith\n",
      "Barbosa\n",
      "Figueroa\n",
      "Edward\n",
      "McClendon\n",
      "Golden\n",
      "Goebel\n",
      "Jordan\n",
      "Schroeder\n",
      "Edwards\n",
      "R.\n",
      "Sowell\n",
      "Earl\n",
      "Reed\n",
      "Ceja\n",
      "Massey\n",
      "Hall\n",
      "Shinwary\n",
      "Walker\n",
      "Meza\n",
      "Brumley\n",
      "Guillory\n",
      "Castle\n",
      "Campbell\n",
      "Carr\n",
      "Allen\n",
      "Angel\n",
      "Holmes\n",
      "Toto\n",
      "Meton\n",
      "Coignard\n",
      "Francis\n",
      "Turner\n",
      "Antonio\n",
      "King\n",
      "Myler\n",
      "Hutchins\n",
      "Jude\n",
      "Campbell\n",
      "Hernandez\n",
      "Kmetz\n",
      "Omar\n",
      "Garcia\n",
      "Leland\n",
      "Ingram\n",
      "Fletcher\n",
      "Terry\n",
      "Lance\n",
      "Nuu\n",
      "Karasek\n",
      "Willis\n",
      "James\n",
      "Barry\n",
      "Manuel\n",
      "Donnell\n",
      "Haglund\n",
      "Kassick\n",
      "Murphy\n",
      "D.\n",
      "Henderson\n",
      "Deshawn\n",
      "Purvis\n",
      "Lett\n",
      "Colon\n",
      "Muna\n",
      "Hernandez\n",
      "Ray\n",
      "Atkins\n",
      "Alfred\n",
      "Hill\n",
      "Sawyer\n",
      "Allen\n",
      "Martin\n",
      "Flache\n",
      "Cordaro\n",
      "Paffen\n",
      "Hostetter\n",
      "Kreyssig\n",
      "Luster\n",
      "Zambrano-Montes\n",
      "Bess\n",
      "Fritze\n",
      "Watkins\n",
      "Ray\n",
      "Larry\n",
      "Lara-Rodriguez\n",
      "Carlin\n",
      "D.\n",
      "Mejia\n",
      "C.\n",
      "Joy\n",
      "Hall\n",
      "Brent\n",
      "Steward\n",
      "Caldwell\n",
      "K.\n",
      "Evans\n",
      "Sexton\n",
      "Ireland\n",
      "Lundy\n",
      "Sparks\n",
      "Juan\n",
      "Fonville\n",
      "Salazar\n",
      "Villalpando\n",
      "Lamar\n",
      "Harris\n",
      "Moncrief\n",
      "Norman\n",
      "Leonard\n",
      "Nichols\n",
      "Elrod\n",
      "Kohl\n",
      "Wayne\n",
      "Giaquinta\n",
      "Washington\n",
      "Biegert\n",
      "Lewis\n",
      "Spivey\n",
      "Phillip\n",
      "Cuevas\n",
      "Perez-Lopez\n",
      "Biggs\n",
      "Lee\n",
      "Javiar\n",
      "Freeman\n",
      "Guilford\n",
      "Allen\n",
      "Uribe\n",
      "J.\n",
      "Sherrod\n",
      "Hill\n",
      "Lewis\n",
      "Leundeu\n",
      "Trieu\n",
      "Barrow\n",
      "Rhinvil\n",
      "Metz\n",
      "Cruice\n",
      "Lao\n",
      "Ryerson\n",
      "Alexander\n",
      "Hubbard\n",
      "Vinzant\n",
      "Anthony\n",
      "Robinson\n",
      "Reinhart\n",
      "Duarte\n",
      "McKillop\n",
      "Jenee\n",
      "Brown\n",
      "Brent\n",
      "Lamont\n",
      "Hill\n",
      "Croom\n",
      "Mitchell\n",
      "Franco\n",
      "Johnson\n",
      "Greenwell\n",
      "Osorio\n",
      "Dean\n",
      "Valdez\n",
      "Fleury\n",
      "Russell\n",
      "Garnett\n",
      "Gross\n",
      "Liggett\n",
      "Driver\n",
      "Perez\n",
      "Richard\n",
      "Castilleja\n",
      "Reintzel\n",
      "Siler\n",
      "Ray\n",
      "Tolkinen\n",
      "Dean\n",
      "Smith\n",
      "Leon\n",
      "Charles\n",
      "Owen\n",
      "Brown\n",
      "Alexander\n",
      "Stone\n",
      "Lee\n",
      "Alston\n",
      "Childress\n",
      "Burdge\n",
      "Watkins\n",
      "Jones\n",
      "Rapp\n",
      "Fowler\n",
      "White\n",
      "Vick\n",
      "Ellis\n",
      "Page\n",
      "Smith\n",
      "Gaver\n",
      "Conley\n",
      "Ryan\n",
      "Brown\n",
      "Gates\n",
      "Snyder\n",
      "J.\n",
      "Dunham\n",
      "Thomas\n",
      "Lorenza\n",
      "Terrazas\n",
      "Tassinari\n",
      "Choate\n",
      "Solis\n",
      "Kendrick\n",
      "Hall\n",
      "Hernandez\n",
      "Seifert\n",
      "Hockaday\n",
      "Oates\n",
      "West\n",
      "Rooker\n",
      "Herbert\n",
      "Babb\n",
      "Marcell\n",
      "Anderson\n",
      "Quezada\n",
      "Hall\n",
      "Washington\n",
      "Clyde\n",
      "Langford\n",
      "Hicks\n",
      "Harris\n",
      "Rutledge\n",
      "Prevatt\n",
      "Howell\n",
      "Scott\n",
      "Anderson\n",
      "Noll\n",
      "Cockerel\n",
      "Hanna\n",
      "Myers\n",
      "Willis\n",
      "J.\n",
      "Rose\n",
      "Faith\n",
      "Pernell\n",
      "Rodriguez\n",
      "Jeremy\n",
      "Smith\n",
      "Kimbrell\n",
      "Smith\n",
      "Leipold\n",
      "Burgess\n",
      "Cresencio\n",
      "Reed\n",
      "Allen\n",
      "Long\n",
      "Dale\n",
      "Lee\n",
      "Jimenez\n",
      "Robinson\n",
      "Grant\n",
      "Barkley\n",
      "Noble\n",
      "Shephard\n",
      "W.\n",
      "Watson\n",
      "Flores\n",
      "Velazquez\n",
      "Kemp\n",
      "Cavazos\n",
      "McCarroll\n",
      "Tellez\n",
      "Sapp\n",
      "Foster\n",
      "Hlavinka\n",
      "Cortez\n",
      "Wolfe\n",
      "Covarrubias\n",
      "Key\n",
      "Martinez\n",
      "Chapman\n",
      "Saavedra\n",
      "Efraim\n",
      "McGregor\n",
      "Vang\n",
      "Valadez\n",
      "Potts\n",
      "Morejon\n",
      "Janks\n",
      "Cecil\n",
      "Timmie\n",
      "Jamal\n",
      "Lawrence\n",
      "Felix\n",
      "Davis\n",
      "Joe\n",
      "Hanson\n",
      "Genova\n",
      "Kellom\n",
      "Parker\n",
      "Johnson\n",
      "Green\n",
      "Jackson\n",
      "Deysie\n",
      "Chavez-Diaz\n",
      "Christian\n",
      "Adkins\n",
      "Acree\n",
      "Zalbeg\n",
      "Emmanuel\n",
      "Mathena\n",
      "Vance\n",
      "Simpson\n",
      "Soofi\n",
      "Grimm\n",
      "Asher\n",
      "Cook\n",
      "Glenn\n",
      "Kien\n",
      "A.\n",
      "William\n",
      "Roy\n",
      "Murphy\n",
      "Arriguin\n",
      "Johnson\n",
      "Schwalm\n",
      "Marshall\n",
      "Holmes\n",
      "Cunningham\n",
      "Lorenzo\n",
      "Goldston\n",
      "Way\n",
      "Stallworth\n",
      "Zalonka\n",
      "Ouzounian\n",
      "Michael\n",
      "Martin\n",
      "Farrar\n",
      "Coates\n",
      "Wade\n",
      "Fiel\n",
      "Goodner\n",
      "Jones\n",
      "Rials-Torres\n",
      "McIntosh\n",
      "Gaines\n",
      "Gomez\n",
      "Colley\n",
      "Talbott\n",
      "Jo\n",
      "Wheeler\n",
      "Alejandro\n",
      "Washington\n",
      "Anthony\n",
      "Diaz\n",
      "Caldwell\n",
      "Lowery\n",
      "Jackson\n",
      "Horn\n",
      "Robinson\n",
      "Bolin\n",
      "Briggs\n",
      "Tallant\n",
      "Branch\n",
      "Williams\n",
      "McAllister\n",
      "Sandeno\n",
      "Davis\n",
      "Morad\n",
      "Hubble\n",
      "Morgan\n",
      "Strong\n",
      "Dothard\n",
      "Baker\n",
      "Allen\n",
      "Fischer\n",
      "Box\n",
      "Lamont\n",
      "Tirado\n",
      "Anthony\n",
      "Bushey\n",
      "Ladd\n",
      "Rahim\n",
      "Dajani\n",
      "Garza\n",
      "Baca\n",
      "Martinez\n",
      "Hernandez\n",
      "Neal\n",
      "Quezada\n",
      "Cathers\n",
      "Hogg\n",
      "Smillie\n",
      "Campos\n",
      "Nevels\n",
      "Ramirez\n",
      "Wayne\n",
      "Marshall\n",
      "Johnson\n",
      "Garcia\n",
      "Warolf\n",
      "Linhart\n",
      "Hartley\n",
      "Hicks\n",
      "Bolinger\n",
      "Hampton\n",
      "Ziegler\n",
      "Phillips\n",
      "Severe\n",
      "Flores\n",
      "Peralta-Lantigua\n",
      "Haendiges\n",
      "Hodge\n",
      "Manyoun\n",
      "Boulware\n",
      "Garcia\n",
      "Terryn\n",
      "Jackson\n",
      "DeLeon\n",
      "Charboneau\n",
      "Chappell\n",
      "Lanphier\n",
      "Tcherniak\n",
      "Laboy\n",
      "Hummons\n",
      "Atencio\n",
      "Cockerham\n",
      "Simental\n",
      "Marshall\n",
      "Monroe\n",
      "Reyes\n",
      "Wicks\n",
      "Harris\n",
      "Dyer\n",
      "Wilson\n",
      "Waddel\n",
      "Culbertson\n",
      "A.\n",
      "McCain\n",
      "Jake\n",
      "Matt\n",
      "Angel\n",
      "Crittenden\n",
      "Bellew\n",
      "LaPort\n",
      "Alan\n",
      "Lamont\n",
      "Landon\n",
      "Buckley\n",
      "Nguyen\n",
      "Emanuel\n",
      "Johnson\n",
      "A.\n",
      "Lopez\n",
      "Camacho\n",
      "Julian\n",
      "Elando\n",
      "Shannon\n",
      "Beaty\n",
      "David\n",
      "Deming\n",
      "Holt\n",
      "Munroe\n",
      "Ray\n",
      "Rogers\n",
      "Esty-Lennon\n",
      "Oliva\n",
      "Leonard\n",
      "Hendley\n",
      "Jamarcus\n",
      "Dujanovic\n",
      "Cody\n",
      "Hernandez\n",
      "Graciano\n",
      "Dantzler\n",
      "Booth\n",
      "Blough\n",
      "Terence\n",
      "Shatley\n",
      "Joseph\n",
      "Hammonds\n",
      "Milliner\n",
      "Hurtado\n",
      "White\n",
      "Hawkins\n",
      "Michael\n",
      "Blue\n",
      "McSwain\n",
      "Maine\n",
      "Castaway\n",
      "Ellswood\n",
      "Lepine\n",
      "Watson\n",
      "Benton\n",
      "Farmer\n",
      "Ryan\n",
      "Suazo\n",
      "Davis\n",
      "Avant\n",
      "Crandall\n",
      "Kailing\n",
      "Smith\n",
      "Gonzalez\n",
      "Foster\n",
      "Stephen\n",
      "Youssef\n",
      "Hack\n",
      "Gabriel\n",
      "Smith\n",
      "Joseph\n",
      "Brand\n",
      "Stewart\n",
      "Roman\n",
      "Wheat\n",
      "Thomas\n",
      "Edward\n",
      "DuBose\n",
      "LeBoeuf\n",
      "Francis\n",
      "Billy\n",
      "Fuller\n",
      "Tyre\n",
      "Benitez-Santiago\n",
      "Dontrell\n",
      "Guisherd\n",
      "L.\n",
      "Wolfsteller\n",
      "Stortzum\n",
      "Lee\n",
      "Satre\n",
      "Raines\n",
      "Aaron\n",
      "Olmstead\n",
      "Braswell\n",
      "Keith\n",
      "Jackson\n",
      "Westly\n",
      "Hammond\n",
      "Milliken\n",
      "Paul\n",
      "Forgy\n",
      "Johnson\n",
      "Malone\n",
      "Darrin\n",
      "Perkins\n",
      "Daniel\n",
      "Vallejo\n",
      "Lotari\n",
      "Molina\n",
      "Hatch\n",
      "Cook\n",
      "Serrano\n",
      "Reynolds\n",
      "Clements\n",
      "Malave\n",
      "Short\n",
      "Ruble\n",
      "Robert\n",
      "D.\n",
      "Alexander\n",
      "Dieringer\n",
      "Hodge\n",
      "Dominique\n",
      "Montano\n",
      "Galaviz\n",
      "Ponce-Galon\n",
      "Bertram\n",
      "Taylor\n",
      "Correa\n",
      "Marchese\n",
      "Keckhafer\n",
      "Clark\n",
      "Lee\n",
      "Burr\n",
      "Terrel\n",
      "Clyde\n",
      "McDaniel\n",
      "Green\n",
      "Tompkins\n",
      "Patrick\n",
      "Rivera\n",
      "Tyler\n",
      "George\n",
      "Lance\n",
      "Dean\n",
      "Wilks\n",
      "Jones\n",
      "Lorenzo\n",
      "Marshall\n",
      "Smith\n",
      "Tyree\n",
      "Rene\n",
      "Pharoah\n",
      "Anderson\n",
      "Unsworth\n",
      "Matthew\n",
      "Peter\n",
      "Pope\n",
      "Castillo\n",
      "B.\n",
      "Roy\n",
      "Jacquez\n",
      "Ball-Bey\n",
      "Ernel\n",
      "Hale\n",
      "Allen\n",
      "Gerken\n",
      "Ray\n",
      "Herrera\n",
      "Walling\n",
      "S.\n",
      "Joseph\n",
      "Schneider\n",
      "Faison\n",
      "Lee\n",
      "Garner\n",
      "Henry\n",
      "Francis\n",
      "Ray\n",
      "Hoffman\n",
      "Troledge\n",
      "Lee\n",
      "Maestas\n",
      "Smith\n",
      "Tomlinson\n",
      "Rudolph\n",
      "Arroliga\n",
      "Dodd\n",
      "Pickard\n",
      "Lambrose\n",
      "Davis\n",
      "Alehegne\n",
      "Hober\n",
      "Soriano\n",
      "Flores\n",
      "Evans\n",
      "Kumi\n",
      "Brian\n",
      "Marcus\n",
      "Albrecht\n",
      "Cruz\n",
      "Hall\n",
      "M.\n",
      "Rippley\n",
      "Maurice\n",
      "Robert\n",
      "Todd\n",
      "Bates\n",
      "Centeno\n",
      "James\n",
      "Ramon\n",
      "Keith\n",
      "Lanier\n",
      "Lambert\n",
      "Trevon\n",
      "Wenceslao\n",
      "Delano\n",
      "Kager\n",
      "Yero\n",
      "Ibrahim\n",
      "Verrett\n",
      "Carlos\n",
      "Vent\n",
      "Kuik\n",
      "Holman\n",
      "J.\n",
      "Chau\n",
      "Ma\n",
      "Santino\n",
      "Foy\n",
      "Wilburly\n",
      "Tapia\n",
      "T.\n",
      "Pfleghardt\n",
      "Davis\n",
      "Stevens\n",
      "Francis\n",
      "Butler\n",
      "Eugene\n",
      "Thompson\n",
      "Todd\n",
      "Bass\n",
      "Chaidez\n",
      "Suarez-Ruiz\n",
      "Wilhelm\n",
      "R.\n",
      "Lynn\n",
      "Gary\n",
      "Price\n",
      "Alan\n",
      "Herrell\n",
      "Rolland\n",
      "Beech\n",
      "Thomas\n",
      "Wright\n",
      "Ramirez\n",
      "Spaits\n",
      "Money\n",
      "McKenny\n",
      "Wagner\n",
      "Fuller\n",
      "Osborne\n",
      "Dixon\n",
      "Kyle\n",
      "Kyle\n",
      "Berger\n",
      "Khammash\n",
      "Harrison\n",
      "Ray\n",
      "McDole\n",
      "Medina\n",
      "O'Grady\n",
      "Quinn\n",
      "Lemmon\n",
      "Anderson\n",
      "Blood\n",
      "McKinney\n",
      "Lerma\n",
      "Angelica\n",
      "Shell\n",
      "Oswaldo\n",
      "Prosper\n",
      "Hernandez\n",
      "Stephen\n",
      "Christen\n",
      "Lamar\n",
      "M.\n",
      "Pena\n",
      "Ilene\n",
      "Dobbins\n",
      "Joseph\n",
      "Edgell\n",
      "McCallum\n",
      "Dunaway\n",
      "Jencsik\n",
      "Ali\n",
      "A.\n",
      "Miller\n",
      "Lago\n",
      "Carmona\n",
      "Wagner\n",
      "Whitmarsh\n",
      "Love\n",
      "Combs\n",
      "Quay\n",
      "Aguilar\n",
      "Pasquez\n",
      "Lau\n",
      "Brandon\n",
      "Humberto\n",
      "Day\n",
      "Smith\n",
      "Brannon\n",
      "Marie\n",
      "Villarreal\n",
      "Donald\n",
      "Portis\n",
      "Santiago\n",
      "Alexander\n",
      "Lee\n",
      "J.\n",
      "Burgess\n",
      "Benitez\n",
      "Ryans\n",
      "Angel\n",
      "Foreman\n",
      "Javenta\n",
      "Paredes\n",
      "Williams\n",
      "Jones\n",
      "Ekizian\n",
      "Lamont\n",
      "D.\n",
      "Jones\n",
      "Lopes\n",
      "Greenwood\n",
      "Tyler\n",
      "Angel\n",
      "Christopher\n",
      "Arnold\n",
      "Green\n",
      "Jamarr\n",
      "H.\n",
      "Tozzi\n",
      "Ulloa\n",
      "Thomas\n",
      "Hutchinson\n",
      "West\n",
      "Myron\n",
      "Ployhar\n",
      "Harley\n",
      "Brunson\n",
      "McMillan\n",
      "Igbuhay\n",
      "Cuyler\n",
      "Ashford\n",
      "Keith\n",
      "Michael\n",
      "Levi\n",
      "Lamar\n",
      "Quintez\n",
      "Ray\n",
      "Martinez\n",
      "Berry\n",
      "Nole\n",
      "Harpham\n",
      "Lee\n",
      "Roy\n",
      "O'Quinn\n",
      "Yantis\n",
      "Covington\n",
      "Mardis\n",
      "Tyndall\n",
      "Allen\n",
      "Mohammad\n",
      "Gene\n",
      "Romanoski\n",
      "Bigley\n",
      "Hohman\n",
      "Lemieux\n",
      "Johnson\n",
      "Francis\n",
      "Lee\n",
      "Simmons\n",
      "Cuellar\n",
      "Maverick\n",
      "Acevedo\n",
      "Cano\n",
      "Bruce\n",
      "Gabriel\n",
      "Leanard\n",
      "Blake\n",
      "Jaramillo\n",
      "Lopez\n",
      "Gavin\n",
      "Quinn\n",
      "Nero\n",
      "Joseph\n",
      "Gamino\n",
      "Coleman\n",
      "Salazar\n",
      "Perkins\n",
      "David\n",
      "Whitehead\n",
      "Clark\n",
      "Davis\n",
      "Noblitt\n",
      "Tindall\n",
      "Leon\n",
      "Bryant\n",
      "Chatham\n",
      "Touchstone\n",
      "Hartnett\n",
      "Brown\n",
      "Meridy\n",
      "Allen\n",
      "Dormil\n",
      "Napper\n",
      "Tarrant\n",
      "Harris\n",
      "Nichols\n",
      "Daniel\n",
      "Grows\n",
      "Angel\n",
      "Reyna\n",
      "Kirk\n",
      "Kirvelay\n",
      "Joseph\n",
      "Baez\n",
      "Edgar\n",
      "R.\n",
      "Speer\n",
      "Thomas\n",
      "Gullickson\n",
      "Close\n",
      "D.\n",
      "Kerns\n",
      "Aguilar\n",
      "Fernando\n",
      "Grigsby\n",
      "Hoang\n",
      "Smith\n",
      "Sauceda\n",
      "Jozefowicz\n",
      "Anthony\n",
      "Munoz\n",
      "Malik\n",
      "Farook\n",
      "Woods\n",
      "Pacheco\n",
      "Lucero\n",
      "Scott\n",
      "Krstic\n",
      "M.\n",
      "Price\n",
      "Winesett\n",
      "L.\n",
      "Huck\n",
      "Perez\n",
      "Azevedo\n",
      "Zaramo\n",
      "Alan\n",
      "Espinal\n",
      "Stokes\n",
      "Higdon\n",
      "Monroe\n",
      "Bryant\n",
      "Edward\n",
      "Arthur\n",
      "Wickert\n",
      "Goodlow\n",
      "Shante\n",
      "Robertson\n",
      "Wardlow\n",
      "Jospeh\n",
      "Carreon\n",
      "Villanueva\n",
      "Weis\n",
      "McMillan\n",
      "Leiataua\n",
      "Gonzalez\n",
      "McKinnis\n",
      "Gene\n",
      "Thomason\n",
      "Dean\n",
      "Verdejo\n",
      "Alvarez\n",
      "Sanchez\n",
      "Toney\n",
      "Dubose\n",
      "Neil\n",
      "Yon\n",
      "Fletcher\n",
      "Lauro\n",
      "Frerichs\n",
      "L.\n",
      "Scruggs\n",
      "Jose\n",
      "Browning\n",
      "Ramirez\n",
      "Quiroz\n",
      "Daniels\n",
      "Noel\n",
      "DeGroat\n",
      "L.\n",
      "Leith\n",
      "Barsnick\n",
      "Reynolds\n",
      "Stephens\n",
      "Hilber\n",
      "Rodriguez\n",
      "Matthews\n",
      "Gunning\n",
      "Sanders\n",
      "Tyree\n",
      "Ventura\n",
      "Antonio\n",
      "David\n",
      "Niesen\n",
      "Jones\n",
      "LeGrier\n",
      "Heredia\n",
      "Parker\n",
      "Mould\n",
      "Paul\n",
      "Jason\n",
      "Velega-Nuufolau\n",
      "Hua\n",
      "Perez\n",
      "Randell\n",
      "Childress\n",
      "Sisson\n",
      "O'Brien\n",
      "Light\n",
      "Haskell\n",
      "Wallace\n",
      "John\n",
      "Turner\n",
      "Anthony\n",
      "K.\n",
      "Antonio\n",
      "Bukwich\n",
      "Thompson\n",
      "Zollo\n",
      "Hollstein\n",
      "Huberth\n",
      "Clay\n",
      "C.\n",
      "Earl\n",
      "Jay\n",
      "A.\n",
      "Paul\n",
      "Tenbrink\n",
      "Lonergan\n",
      "Meyer\n",
      "Bean\n",
      "Richardson\n",
      "Bearden\n",
      "Meehan\n",
      "Holderfield\n",
      "Hernandez\n",
      "Keith\n",
      "Bentley\n",
      "Longoria\n",
      "Lane\n",
      "Karjalainen\n",
      "Rose\n",
      "Layfield\n",
      "Bennett\n",
      "West\n",
      "Herrera\n",
      "Tate\n",
      "Lee\n",
      "Shaver\n",
      "Szymanski\n",
      "Provost\n",
      "Caruthers\n",
      "Gene\n",
      "Alexander\n",
      "Wayne\n",
      "Grady\n",
      "Redmond\n",
      "Albert\n",
      "Joe\n",
      "Clyde\n",
      "Norris\n",
      "Lamar\n",
      "Alvarado-Morales\n",
      "\"LaVoy\"\n",
      "Scanlon\n",
      "Bratcher\n",
      "Flores\n",
      "Wesley\n",
      "Vandarack\n",
      "Wilson\n",
      "Lee\n",
      "Vladimir\n",
      "D.\n",
      "A.\n",
      "Kalonji\n",
      "McClain\n",
      "Michael\n",
      "Hiatt\n",
      "M.\n",
      "B.\n",
      "Alegre\n",
      "J.\n",
      "Shane\n",
      "Kelley\n",
      "A.\n",
      "Brown\n",
      "Graves\n",
      "John\n",
      "Rene\n",
      "Prescott\n",
      "Henry\n",
      "Oliver\n",
      "Gassman\n",
      "Clarke\n",
      "Scott\n",
      "Harless\n",
      "Hirko\n",
      "Leroy\n",
      "Barawis\n",
      "Edward\n",
      "Ray\n",
      "Ferry\n",
      "Mendez\n",
      "V.\n",
      "Luchsinger\n",
      "Laniado\n",
      "Longer\n",
      "Joseph\n",
      "Harris\n",
      "Najera\n",
      "Yanagawa\n",
      "Vessels\n",
      "Brian\n",
      "Nageak\n",
      "Birkeland\n",
      "Bertoni\n",
      "Jackson\n",
      "Quinn\n",
      "Barry\n",
      "Fanfan\n",
      "Glen\n",
      "Ridgeway\n",
      "Smith\n",
      "Eisa\n",
      "Roquemore\n",
      "L.\n",
      "Jaradat\n",
      "Stoddart\n",
      "Rodriguez\n",
      "Sauceda\n",
      "Lee\n",
      "Andrews\n",
      "Meikle\n",
      "Henry\n",
      "Gaston\n",
      "Noel\n",
      "Quintanilla\n",
      "Reyes\n",
      "Padron\n",
      "Patrick\n",
      "James\n",
      "Rendon\n",
      "Camacho-Alvarado\n",
      "Perea\n",
      "Lee\n",
      "Taylor\n",
      "Homer\n",
      "Michael\n",
      "Sandlin\n",
      "Kruger\n",
      "Cayetano\n",
      "Clark\n",
      "Michael\n",
      "Loch\n",
      "Stevenson\n",
      "Alan\n",
      "Ramos\n",
      "Buckner\n",
      "Keil\n",
      "Wirth\n",
      "Rivera\n",
      "Garcia\n",
      "J.\n",
      "Miller\n",
      "Gunn\n",
      "Conti\n",
      "Ford\n",
      "Desean\n",
      "Mitchell\n",
      "Hernandez\n",
      "Grissom\n",
      "Hicks\n",
      "Denkins\n",
      "Corcino\n",
      "Brian\n",
      "Dewayne\n",
      "Boyd\n",
      "Burkhardt\n",
      "Ochoa\n",
      "Alan\n",
      "Stanley\n",
      "Bosell\n",
      "Ballance\n",
      "Minnick\n",
      "Scott\n",
      "Torres\n",
      "Vitullo\n",
      "Rosas\n",
      "J.\n",
      "Charles\n",
      "H.\n",
      "Glen\n",
      "Sheppard\n",
      "Porter\n",
      "Hurtado\n",
      "Meador\n",
      "Gonzalez\n",
      "Privott\n",
      "\"Butch\"\n",
      "Goodman\n",
      "Valencia\n",
      "Gaines\n",
      "Loud\n",
      "Michael\n",
      "Alachadzhyan\n",
      "Raul\n",
      "Grubb\n",
      "Chad\n",
      "Montgomery\n",
      "Jean\n",
      "Colson\n",
      "Harris\n",
      "Harris\n",
      "J.\n",
      "Russell\n",
      "Rene\n",
      "Hernandez\n",
      "Penny\n",
      "Kong\n",
      "Chin\n",
      "Bennett\n",
      "Nelms\n",
      "Mallet\n",
      "Alma\n",
      "Beaty\n",
      "Douglas\n",
      "Reynolds\n",
      "R.\n",
      "Keith\n",
      "Briggs\n",
      "Martinez\n",
      "Dentmond\n",
      "\"Phil\"\n",
      "Pape\n",
      "J.\n",
      "James\n",
      "J.\n",
      "Scott\n",
      "Gonzalez\n",
      "Allen\n",
      "L.\n",
      "Silva\n",
      "Mike\n",
      "A.\n",
      "Sandoval\n",
      "Seals\n",
      "Perez\n",
      "Shane\n",
      "Andrew\n",
      "Matthew\n",
      "Lanahan\n",
      "Tsingine\n",
      "D.\n",
      "Deon\n",
      "Ashby\n",
      "Louis\n",
      "Morgan\n",
      "Fairchild\n",
      "Montion\n",
      "Cossyleon\n",
      "Lagano\n",
      "Craig\n",
      "Johnson\n",
      "Vincent\n",
      "Brown\n",
      "Juarez\n",
      "Fabela\n",
      "Gover\n",
      "Paul\n",
      "Boarts\n",
      "Andrew\n",
      "Mack\n",
      "Salvador\n",
      "J.\n",
      "Hicks\n",
      "Cremeans\n",
      "Sweatt\n",
      "Frias\n",
      "Gongora\n",
      "C.\n",
      "Flenaugh\n",
      "M.\n",
      "Gulley\n",
      "Grant\n",
      "Williams\n",
      "Ball\n",
      "Clark\n",
      "Yobani-Torrez\n",
      "Eloy\n",
      "Loury\n",
      "Daman\n",
      "Moreno\n",
      "Wood\n",
      "Watts\n",
      "Gray\n",
      "Whitson\n",
      "Robertson\n",
      "Najera\n",
      "Swatsky\n",
      "Allen\n",
      "Robert\n",
      "Arrone\n",
      "John\n",
      "Bard\n",
      "Tillman\n",
      "Thevenin\n",
      "Don\n",
      "Dorsey\n",
      "Ackhavong\n",
      "Scruggs\n",
      "Eric\n",
      "Scot\n",
      "Lee\n",
      "Mejia\n",
      "Hunkin\n",
      "Baranishyn\n",
      "Semer\n",
      "Oakley\n",
      "E.\n",
      "C.\n",
      "Tillman\n",
      "Frances\n",
      "Barber\n",
      "Brooks\n",
      "Burke\n",
      "S.\n",
      "Shane\n",
      "Lam\n",
      "Blair\n",
      "del\n",
      "Easter\n",
      "Kurtz\n",
      "Barnes\n",
      "Darrell\n",
      "Mattner\n",
      "Daniel\n",
      "Dass\n",
      "Habana\n",
      "Charles\n",
      "Branch\n",
      "Darnell\n",
      "Hopper\n",
      "Ferretti\n",
      "A.\n",
      "Tucker\n",
      "J.\n",
      "DiGiovanni\n",
      "Johnson\n",
      "Armstrong\n",
      "D.\n",
      "Q.\n",
      "Fitzgerald\n",
      "J.\n",
      "Gibson\n",
      "R.\n",
      "Smith\n",
      "Bowman\n",
      "Johnson\n",
      "Napoli\n",
      "Stotts\n",
      "DaRosa\n",
      "Schuster\n",
      "Vilaysane\n",
      "Ryan\n",
      "Godfrey\n",
      "Mark\n",
      "Marsh\n",
      "Clark\n",
      "Sims\n",
      "Johnson\n",
      "\"Clint\"\n",
      "Robinson\n",
      "Sanders\n",
      "Conrad\n",
      "Weatherby\n",
      "Santos-Banos\n",
      "Cruz\n",
      "Nelson-Williams\n",
      "Ide\n",
      "Brandon\n",
      "William\n",
      "Beebee\n",
      "Campbell\n",
      "Moore\n",
      "Nelson\n",
      "Eugene\n",
      "Zambrano\n",
      "Bing\n",
      "Fischer\n",
      "Bedonie\n",
      "Wilson\n",
      "Goletz\n",
      "Montoya\n",
      "Prophet\n",
      "Pierre-Louis\n",
      "\"Geno\"\n",
      "Christian\n",
      "Gates\n",
      "Castro\n",
      "Tk\n",
      "Daniel\n",
      "Edwards\n",
      "Hudson\n",
      "Humphrey\n",
      "Augustine\n",
      "Edward\n",
      "Mark\n",
      "Brent\n",
      "Wickizer\n",
      "Calix\n",
      "Berger\n",
      "Johnson\n",
      "Pigg\n",
      "Demetrius\n",
      "Rodriguez\n",
      "Smith\n",
      "Thomas\n",
      "Jonathan\n",
      "Rhymes\n",
      "Dustin\n",
      "Michael\n",
      "Green\n",
      "Allen\n",
      "Henson\n",
      "Villagomez\n",
      "N.\n",
      "David\n",
      "Garcia\n",
      "Michael\n",
      "Allen\n",
      "Michael\n",
      "Tucker\n",
      "Bursey\n",
      "Millsaps\n",
      "Sanchez\n",
      "Juan\n",
      "Cortez\n",
      "Duran\n",
      "Mateen\n",
      "Bennett\n",
      "Williams\n",
      "Sciscm\n",
      "Moore\n",
      "Acquisto\n",
      "Allen\n",
      "Rodriguez\n",
      "Ferro\n",
      "Moghaddam\n",
      "Geovanni\n",
      "Rosser\n",
      "Rasmussen\n",
      "Delfino\n",
      "Grandpre\n",
      "Damon\n",
      "Anderson\n",
      "Thomas\n",
      "Makarenko\n",
      "Shumpert\n",
      "Lloyd\n",
      "Ford\n",
      "M.\n",
      "Christopher\n",
      "Lesko\n",
      "Hyde\n",
      "Cruz-Amado\n",
      "Williams\n",
      "Core\n",
      "Ponce\n",
      "Maurice\n",
      "Caine\n",
      "Trevor\n",
      "Anderson\n",
      "Brown\n",
      "Herrera\n",
      "Miranda\n",
      "Blecher\n",
      "Sheats\n",
      "Angel\n",
      "Alejandro\n",
      "Noble\n",
      "Bogusiewicz\n",
      "Guardiola\n",
      "Ferguson\n",
      "Lynn\n",
      "Reyes\n",
      "Kennedy\n",
      "L.\n",
      "Disbrowe\n",
      "Evans\n",
      "Peacock\n",
      "Vierra\n",
      "Hutson\n",
      "Prak\n",
      "Dang\n",
      "J.\n",
      "Reado\n",
      "Evans\n",
      "William\n",
      "Dejuan\n",
      "Vilters\n",
      "Scott\n",
      "George\n",
      "McQueen\n",
      "Wihowski\n",
      "Lateef\n",
      "Lane\n",
      "Labit\n",
      "Saavedra-Vargas\n",
      "Villanueva\n",
      "Tracy\n",
      "Nunez\n",
      "Washington\n",
      "Sterling\n",
      "Bolster\n",
      "Newby\n",
      "Ventura\n",
      "Castile\n",
      "Vandemark\n",
      "Lee\n",
      "Smith\n",
      "Fells\n",
      "Smith\n",
      "Johnson\n",
      "Burnett\n",
      "Mann\n",
      "Brooks\n",
      "Medina\n",
      "Edwards\n",
      "Darnell\n",
      "Zeckovic\n",
      "S.\n",
      "G.\n",
      "Ernest\n",
      "Horne\n",
      "D.\n",
      "Wayne\n",
      "Fennell\n",
      "Higgins\n",
      "Ray\n",
      "Johnson\n",
      "Eugene\n",
      "Brimer\n",
      "Garcia\n",
      "Love\n",
      "Medeiros\n",
      "Edward\n",
      "Alfred\n",
      "Jerry\n",
      "Wells\n",
      "Lee\n",
      "R.\n",
      "Cornell\n",
      "Risher\n",
      "Minard\n",
      "Reynaldo\n",
      "Adams\n",
      "Martes\n",
      "Hollins\n",
      "Liberti\n",
      "Trejeda-Campos\n",
      "Ambrose\n",
      "Moreno-Aguirre\n",
      "Smith\n",
      "O'Neal\n",
      "Rael\n",
      "Thompson\n",
      "Gonzalez\n",
      "Faison\n",
      "Page\n",
      "Casey\n",
      "Martinez\n",
      "Shine\n",
      "Swihart\n",
      "Gaines\n",
      "N.\n",
      "Eugene\n",
      "Lance\n",
      "Jo\n",
      "Newman\n",
      "David\n",
      "Bowers\n"
     ]
    },
    {
     "name": "stdout",
     "output_type": "stream",
     "text": [
      "William\n",
      "Carey\n",
      "Walters\n",
      "Wood\n",
      "Rashad\n",
      "Michael\n",
      "Quealy\n",
      "Porter\n",
      "Pinckney\n",
      "W.\n",
      "Wicker\n",
      "McClurg\n",
      "Eugene\n",
      "J.\n",
      "Smith\n",
      "James\n",
      "Allen\n",
      "Seneca\n",
      "Martelli\n",
      "Daniel\n",
      "Armando\n",
      "Rollice\n",
      "Ortega\n",
      "Smith\n",
      "Horacio\n",
      "Lee\n",
      "Martinez\n",
      "Pirtle\n",
      "Antonio\n",
      "Watkins\n",
      "O'Handley\n",
      "S.\n",
      "Nivens\n",
      "Eugene\n",
      "Friday\n",
      "Ismail\n",
      "Villarreal\n",
      "Kevin\n",
      "Irwin\n",
      "Weber\n",
      "Lohman\n",
      "Klassen\n",
      "Fulton\n",
      "Luna\n",
      "Ceniceros\n",
      "B.\n",
      "Zimbelman\n",
      "P.\n",
      "Montanez\n",
      "Gabriel\n",
      "Brandon\n",
      "Lyn\n",
      "Portillo\n",
      "Charbonneau\n",
      "Darren\n",
      "Lee\n",
      "Taylor\n",
      "Coborubio\n",
      "Gibbon\n",
      "Torres\n",
      "Salazar\n",
      "Hetrick\n",
      "Kulhanek-Derks\n",
      "Julius\n",
      "Peacor\n",
      "Dell\n",
      "Robert\n",
      "Baker\n",
      "Riggins\n",
      "Patrick\n",
      "Mathis\n",
      "Ferguson\n",
      "E.\n",
      "Holup\n",
      "J.\n",
      "Quintero\n",
      "Moreno\n",
      "Rodick\n",
      "Robert\n",
      "Thompson\n",
      "Damon\n",
      "Ayers\n",
      "Max\n",
      "Richard\n",
      "Romero\n",
      "Gomez\n",
      "Ruben\n",
      "Garcia\n",
      "L.\n",
      "Cottrell\n",
      "Del\n",
      "Grant\n",
      "Papa\n",
      "Lee\n",
      "Daniel\n",
      "Bishara-Abaker\n",
      "Perry\n",
      "Torres\n",
      "Tenorio\n",
      "Ell\n",
      "Frazier\n",
      "Claude\n",
      "Joseph\n",
      "Sterling\n",
      "Craig\n",
      "Bivins\n",
      "Vargas\n",
      "King\n",
      "Carrillo\n",
      "Wayne\n",
      "Allen\n",
      "P.\n",
      "Crutcher\n",
      "Beshaw\n",
      "Anderson\n",
      "Duh\n",
      "Glenn\n",
      "Young\n",
      "Joseph\n",
      "Adan\n",
      "Hasan\n",
      "Miller\n",
      "Ray\n",
      "Don\n",
      "Dove\n",
      "Scott\n",
      "Goodale\n",
      "Lamont\n",
      "Joe\n",
      "Tucker\n",
      "M.\n",
      "Ataway\n",
      "Bernard\n",
      "Contreras\n",
      "Lafont\n",
      "Ray\n",
      "White\n",
      "DeSai\n",
      "Joseph\n",
      "Olango\n",
      "Ethan\n",
      "Sowell\n",
      "Lozano-Murillo\n",
      "Clair\n",
      "Eugene\n",
      "Richards-Meyers\n",
      "Marrickus\n",
      "Parent\n",
      "Salaam\n",
      "M.\n",
      "Allen\n",
      "Snell\n",
      "Perez\n",
      "T.\n",
      "Dapkus\n",
      "H.\n",
      "Salgado\n",
      "Sutton\n",
      "Bruning\n",
      "Simmons\n",
      "M.\n",
      "Daniel\n",
      "S.\n",
      "Collins\n",
      "Darnell\n",
      "Jeffery\n",
      "Antrup\n",
      "Hernandez\n",
      "Rogers\n",
      "Jackson\n",
      "J.\n",
      "Michael\n",
      "Hunt\n",
      "Barron\n",
      "Littledog\n",
      "Desnoyers\n",
      "L.\n",
      "Musulman\n",
      "J.\n",
      "Figueroa\n",
      "Brewer\n",
      "Vance\n",
      "Pappe\n",
      "D.\n",
      "Logan\n",
      "Zapata\n",
      "McWherter\n",
      "Richard\n",
      "Dsheigh\n",
      "Arlt\n",
      "Delgado\n",
      "Schweikle\n",
      "St.\n",
      "Wimberly\n",
      "Danner\n",
      "Reyes\n",
      "Stidham\n",
      "J.\n",
      "Garcia\n",
      "Munoz\n",
      "DePetris\n",
      "Frost\n",
      "Davis\n",
      "B.\n",
      "Daniel\n",
      "Tomblin\n",
      "Mac\n",
      "Marquis\n",
      "Lee\n",
      "Jones\n",
      "M.\n",
      "Millard\n",
      "Loren\n",
      "Clifford\n",
      "Killough\n",
      "Demarco\n",
      "Amaya\n",
      "Johannes\n",
      "King\n",
      "Wang\n",
      "Coleman\n",
      "Jack\n",
      "Gonzales\n",
      "Dale\n",
      "Lee\n",
      "Armando\n",
      "Sides\n",
      "Simpson\n",
      "Henry\n",
      "Jay\n",
      "Laurent\n",
      "Kirk\n",
      "King\n",
      "Ortiz\n",
      "Rosales\n",
      "F.\n",
      "Carl\n",
      "Elswick\n",
      "Lowell\n",
      "Wise\n",
      "Contreras\n",
      "B.\n",
      "J.\n",
      "L.\n",
      "Andrew\n",
      "Newcomb\n",
      "Chisholm\n",
      "Kobza\n",
      "Ramos\n",
      "Cox\n",
      "Mendez\n",
      "Erickson\n",
      "Delacruz\n",
      "Pacuicrk\n",
      "Gaither\n",
      "Romero\n",
      "Ray\n",
      "Dale\n",
      "T.\n",
      "M.\n",
      "Carlos\n",
      "Laguna\n",
      "Singletary\n",
      "Daffern\n",
      "Cookson\n",
      "George\n",
      "Leighty\n",
      "Leland\n",
      "Fleurant\n",
      "Montrese\n",
      "Parker\n",
      "Jones\n",
      "Flores\n",
      "Smith\n",
      "Dwayne\n",
      "Brito\n",
      "Moreno\n",
      "C.\n",
      "Bush\n",
      "Giles\n",
      "Daniel\n",
      "C.\n",
      "Nathaniel\n",
      "Scudder\n",
      "J.\n",
      "Leroy\n",
      "Raye\n",
      "Fitzgerald\n",
      "Mitchell\n",
      "Chris\n",
      "Valencia\n",
      "Adame\n",
      "R.\n",
      "J.\n",
      "Grimes\n",
      "Walker\n",
      "Razak\n",
      "Renato\n",
      "Valentine\n",
      "McInnis\n",
      "Cummins\n",
      "King\n",
      "Chance\n",
      "K.\n",
      "Randall\n",
      "N.\n",
      "Phillips\n",
      "M.\n",
      "Lynn\n",
      "Dunne\n",
      "Flores\n",
      "Nasser\n",
      "Gary\n",
      "R.\n",
      "Daum\n",
      "Wayne\n",
      "Donald\n",
      "Anthony\n",
      "Charles\n",
      "Jevon\n",
      "Riedmann\n",
      "Garrett\n",
      "Joshua\n",
      "Quinn\n",
      "MacIntosh\n",
      "Williams\n",
      "G.\n",
      "Case\n",
      "Lee\n",
      "Angel\n",
      "Lewis\n",
      "Leon\n",
      "Serna\n",
      "Tyler\n",
      "Robledo\n",
      "Montray\n",
      "Labon\n",
      "James\n",
      "N.\n",
      "Lee\n",
      "Barrios\n",
      "LeClair\n",
      "Joseph\n",
      "Kolar\n",
      "Roy\n",
      "Minton\n",
      "Hamilton\n",
      "Gomez\n",
      "Shea\n",
      "Calaway\n",
      "Newman\n",
      "Salaiz\n",
      "Ortiz\n",
      "Blake\n",
      "Lovell\n",
      "Thomas\n",
      "Tyler\n",
      "Eversol\n",
      "Antonio\n",
      "Ann\n",
      "Li\n",
      "Hall\n",
      "Tylka\n",
      "Garcia\n",
      "Alan\n",
      "Kirk\n",
      "Boardman\n",
      "Lopez\n",
      "Childers\n",
      "Blake\n",
      "L.\n",
      "Rollins\n",
      "Selby\n",
      "Anthony\n",
      "Whidden\n",
      "Michael\n",
      "McLaughlin\n",
      "Johnson\n",
      "E.\n",
      "Erik\n",
      "Carlos\n",
      "Guirguis\n",
      "Hightower\n",
      "Owens\n",
      "Martino\n",
      "Randolph\n",
      "O'Dell\n",
      "A.\n",
      "Vargas\n",
      "Wayne\n",
      "Ryan\n",
      "Parks\n",
      "Scott\n",
      "Edward\n",
      "Tucker\n",
      "Navarrete\n",
      "A.\n",
      "Zambronio-Lovato\n",
      "Aldridge\n",
      "Williams\n",
      "Henderson\n",
      "Rogers\n",
      "Barnhill\n",
      "Johnson\n",
      "Abousamra\n",
      "A.\n",
      "Ernest\n",
      "Christopher\n",
      "L.\n",
      "Johnson\n",
      "Laurance\n",
      "Nicholson\n",
      "David\n",
      "Pream\n",
      "Johnson\n",
      "Martin\n",
      "Wesley\n",
      "Christopher\n",
      "Azim\n",
      "Dalton\n",
      "Hodges\n",
      "Joel\n",
      "McJunkin\n",
      "Dawes\n",
      "Darnell\n",
      "Thomas\n",
      "DeLong\n",
      "Smith\n",
      "D.\n",
      "Garza\n",
      "Martin\n",
      "Lee\n",
      "Carr\n",
      "M.\n",
      "Thompkins\n",
      "Victor\n",
      "Ramos\n",
      "Mark\n",
      "D.\n",
      "Altenburger\n",
      "Brown\n",
      "Gallardo\n",
      "A.\n",
      "Manning\n",
      "Arturo\n",
      "Lopez-Robledo\n",
      "David\n",
      "Efrain\n",
      "Milanez\n",
      "R.\n",
      "Darnell\n",
      "Paul\n",
      "Javier\n",
      "Lee\n",
      "Phillips\n",
      "Brigham\n",
      "Hernandez\n",
      "Zank\n",
      "Joseph\n",
      "Coronado\n",
      "Dunlap-Gittens\n",
      "Thomas\n",
      "Salgado\n",
      "Washington\n",
      "Dowell\n",
      "Alvarez\n",
      "Herckt\n",
      "Crane\n",
      "Russo\n",
      "Angel\n",
      "Kristl\n",
      "Sword\n",
      "Gonzales\n",
      "Lee\n",
      "David\n",
      "Cason\n",
      "McMasters\n",
      "A.\n",
      "Loren\n",
      "Torres\n",
      "J.\n",
      "Scott\n",
      "Adomako\n",
      "Porter\n",
      "Byrd\n",
      "Allen\n",
      "Wooley\n",
      "Vasquez\n",
      "Christopher\n",
      "Nelson\n",
      "Jamal\n",
      "Latimer\n",
      "B.\n",
      "Parker\n",
      "James\n",
      "Robertson\n",
      "Palma\n",
      "Salinas\n",
      "Derrick\n",
      "Burton\n",
      "Scott\n",
      "Bailey\n",
      "Fagre\n",
      "Robey\n",
      "Stephen\n",
      "Keith\n",
      "L.\n",
      "Robert\n",
      "Sanchez\n",
      "E.\n",
      "A.\n",
      "Eugene\n",
      "Devin\n",
      "S.\n",
      "Krause\n",
      "Burton\n",
      "Lee\n",
      "Zimmerman\n",
      "C.\n",
      "Lee\n",
      "McClendon\n",
      "Garnica\n",
      "Torres\n",
      "Tamayo\n",
      "Briggs\n",
      "Daniel\n",
      "Henry\n",
      "English\n",
      "R.\n",
      "Enjaian\n",
      "David\n",
      "Crockett\n",
      "Carter\n",
      "Reyes\n",
      "Riggs\n",
      "Encinas\n",
      "Fanning\n",
      "Hodge\n",
      "Michael\n",
      "Clark\n",
      "Sanchez\n",
      "Justice\n",
      "Macias\n",
      "Blake\n",
      "Copson\n",
      "London\n",
      "Lee\n",
      "Robertson\n",
      "Patton\n",
      "Valenzuela\n",
      "Lionel\n",
      "T.\n",
      "Isgrigg\n",
      "Cheyanne\n",
      "Antoine\n",
      "Dwayne\n",
      "Taulbee\n",
      "Sanna\n",
      "Michael\n",
      "Leroy\n",
      "J.\n",
      "M.\n",
      "Riley\n",
      "Redding\n",
      "Olivares\n",
      "Lamont\n",
      "Hall\n",
      "Bazan\n",
      "Cisneros\n",
      "Navarro-Garcia\n",
      "Andrade\n",
      "Kocher\n",
      "Phoenix\n",
      "Lee\n",
      "Scott\n",
      "Valencia\n",
      "Manning\n",
      "Dale\n",
      "Todd\n",
      "W.\n",
      "Mosiiuk\n",
      "Alberto\n",
      "Schiltz\n",
      "Seitz\n",
      "Robert\n",
      "Wiley\n",
      "Anthony\n",
      "Gonzalez\n",
      "O.\n",
      "Aaron\n",
      "Daquan\n",
      "Apostolos\n",
      "L.\n",
      "Meltz\n",
      "Anthony\n",
      "\"Ebbie\"\n",
      "Quinn\n",
      "Munson\n",
      "Ricardo\n",
      "Claybrooks\n",
      "Earl\n",
      "Donarski\n",
      "James\n",
      "M.\n",
      "Jane\n",
      "Phillips\n",
      "C.\n",
      "Christian\n",
      "Dennis\n",
      "Knickmeyer\n",
      "Woods\n",
      "Allen\n",
      "Simoes\n",
      "Harris\n",
      "Johnson\n",
      "Vang\n",
      "Stokes\n",
      "Davis\n",
      "Valdez\n",
      "Joseph\n",
      "Tyler\n",
      "Gambaro\n",
      "Barragan\n",
      "Parienlla\n",
      "Eric\n",
      "Hornibrook\n",
      "Quincy\n",
      "Hopwood\n",
      "Spencer\n",
      "Alexander\n",
      "J.\n",
      "Pat\n",
      "Hendrix\n",
      "Boyle\n",
      "Wayne\n",
      "Brown\n",
      "Ratliff\n",
      "Wasson\n",
      "Angelo\n",
      "Williams\n",
      "Sengphong\n",
      "Antonio\n",
      "Vidal\n",
      "Maldonado\n",
      "Connard\n",
      "Alcaraz\n",
      "Dakota\n",
      "Wade\n",
      "Ailstock\n",
      "Watenpool\n",
      "Xavier\n",
      "Francis\n",
      "Lynn\n",
      "Kever\n",
      "Gonzales\n",
      "Baker\n",
      "Findlay\n",
      "Eshetu\n",
      "Pamias\n",
      "Johnston\n",
      "Gezotis\n",
      "Spands\n",
      "Wilson\n",
      "Ridley\n",
      "Airth\n",
      "H.\n",
      "Murrietta-Golding\n",
      "Jahnke\n",
      "Zennie\n",
      "Desper\n",
      "Price\n",
      "Lee\n",
      "Butts\n",
      "Valdez\n",
      "Trejo\n",
      "Pequeno\n",
      "Marie\n",
      "Rickie\n",
      "Sin\n",
      "D.\n",
      "Wilson-Salzl\n",
      "Noel\n",
      "Turner\n",
      "Becker\n",
      "Wilson\n",
      "Kevin\n",
      "Cardenas\n",
      "Manuel\n",
      "Williams\n",
      "Aubrey\n",
      "Bossinger\n",
      "Thomas\n",
      "Sealy\n",
      "A.\n",
      "Richard\n",
      "Fernando\n",
      "Edwards\n",
      "Bernhardt\n",
      "Jackson\n",
      "James\n",
      "Hawkins\n",
      "Raymond\n",
      "Edward\n",
      "William\n",
      "Henderson\n",
      "Sebastian\n",
      "Tatlic\n",
      "Carey\n",
      "Dean\n",
      "Flusche\n",
      "Espinosa\n",
      "Peterson\n",
      "Price\n",
      "Nobles\n",
      "Jamal\n",
      "Hernandez-Rossy\n",
      "Laney\n",
      "David\n",
      "Negron\n",
      "Percy\n",
      "Bittle\n",
      "N.\n",
      "Thomas\n",
      "Kyreem\n",
      "White\n",
      "Peter\n",
      "Singletary\n",
      "Lowell\n",
      "David\n",
      "O'Shea\n",
      "Holt\n",
      "E.\n",
      "Jay\n",
      "A.\n",
      "Block\n",
      "Fitzgerald\n",
      "Shane\n",
      "Ibarra\n",
      "Andrew\n",
      "Duval\n",
      "Fuentes\n",
      "Barrus\n",
      "George\n",
      "Paul\n",
      "Bubar\n",
      "Edward\n",
      "Montel\n",
      "M.\n",
      "Devante\n",
      "Garcia\n",
      "M.\n",
      "Alberto\n",
      "Anthony\n",
      "Eno\n",
      "Gagnier\n",
      "J.\n",
      "Buck\n",
      "Gamboa\n",
      "J.\n",
      "Zimmerman\n",
      "Harlan\n",
      "Valencia\n",
      "Tyrone\n",
      "de\n",
      "Dionne\n",
      "Godinez\n",
      "Warren\n",
      "Jade\n",
      "Gleason\n",
      "Daniel\n",
      "Suarez-Madonado\n",
      "Everett\n",
      "Darnell\n",
      "Brandon\n",
      "Willy\n",
      "Lewis\n",
      "Gerardo\n",
      "Lee\n",
      "Austin\n",
      "Dawley\n",
      "Edgar\n",
      "Spaulding\n",
      "Louis\n",
      "Maurice\n",
      "Ellis\n",
      "W.\n",
      "Alfredo\n",
      "M.\n",
      "Robert\n",
      "Smith\n",
      "Rice\n",
      "Junior\n",
      "Jones\n",
      "Rich\n",
      "Mashburn\n",
      "Barre\n",
      "Juarez\n",
      "Brendecke\n",
      "Blaylock\n",
      "Edward\n",
      "Williams\n",
      "Platas\n",
      "Amaya-Torres\n",
      "Wesley\n",
      "D.\n",
      "Durham\n",
      "Jones\n",
      "Frazier\n",
      "Brown\n",
      "Le\n",
      "T.\n",
      "Morris\n",
      "Brown\n",
      "J.\n",
      "Cisneros\n",
      "Valdovinos\n",
      "Dougan\n",
      "Banks\n",
      "Paul\n",
      "Lyles\n",
      "Webster\n",
      "Colton\n",
      "Folmar\n",
      "Bryan\n",
      "Faulkner\n",
      "Stewart\n",
      "D.\n",
      "Francisco\n",
      "Garcia-Muro\n",
      "Trevino\n",
      "Ramon\n",
      "Ollman\n",
      "Michael\n",
      "Bevenue\n",
      "Joseph-McDade\n",
      "Heyward\n",
      "Johnson\n",
      "Johnston\n",
      "Huntington\n",
      "Magana\n",
      "L.\n",
      "Bailey\n",
      "Gatu\n",
      "Guillermo\n",
      "Knuppel\n",
      "Rodriguez\n",
      "Sanchez\n",
      "Locke\n",
      "Holmes\n",
      "Craven\n",
      "Henry\n",
      "Gonzales\n",
      "Dubose\n",
      "Ray\n",
      "Martin\n",
      "West\n",
      "Bonds\n",
      "Lynn\n",
      "\"Beanie\"\n",
      "Huskey\n",
      "Tuttle\n",
      "Cervantes\n",
      "Guillory\n",
      "Easley\n",
      "Ali\n",
      "Anthony\n",
      "Medlin\n",
      "A.\n",
      "Yeiser\n",
      "Alvarez\n",
      "Taylor\n",
      "Ethan\n",
      "Shawn\n",
      "Engstrom\n",
      "Edward\n",
      "Scott\n",
      "Garcia\n",
      "Glenn\n",
      "Gerald\n",
      "Chamblee\n",
      "Steele\n",
      "Rubio\n",
      "Bravo\n",
      "Dieguez\n",
      "Damond\n",
      "N.\n",
      "Sedillo\n",
      "Wesley\n",
      "Cazares\n",
      "Thomas\n",
      "Earl\n",
      "Allan\n",
      "Benavidez\n",
      "Jabbari\n",
      "Daniels\n",
      "Perkins\n",
      "Breito\n",
      "Velasquez\n",
      "Lynde\n",
      "Caponigro\n",
      "Lopez\n",
      "Scott\n",
      "Kershaw\n",
      "J.\n",
      "Joseph\n",
      "Balladares\n",
      "Clark\n",
      "Teel\n",
      "K.\n",
      "Phillip\n",
      "Henderson\n",
      "Velasco-Martinez\n",
      "Folden\n",
      "Alvarado\n",
      "J.\n",
      "E.\n",
      "W.\n",
      "Tucker\n",
      "Jeune\n"
     ]
    }
   ],
   "source": [
    "for i in surname:\n",
    "    print(i)"
   ]
  },
  {
   "cell_type": "code",
   "execution_count": 10,
   "metadata": {},
   "outputs": [],
   "source": [
    "full_name = name + surname"
   ]
  },
  {
   "cell_type": "code",
   "execution_count": 12,
   "metadata": {},
   "outputs": [
    {
     "data": {
      "text/plain": [
       "4968"
      ]
     },
     "execution_count": 12,
     "metadata": {},
     "output_type": "execute_result"
    }
   ],
   "source": [
    "len(full_name)"
   ]
  },
  {
   "cell_type": "code",
   "execution_count": 13,
   "metadata": {},
   "outputs": [
    {
     "data": {
      "text/plain": [
       "[('Michael', 91),\n",
       " ('David', 57),\n",
       " ('James', 56),\n",
       " ('Robert', 48),\n",
       " ('Joseph', 48),\n",
       " ('William', 47),\n",
       " ('Daniel', 46),\n",
       " ('John', 42),\n",
       " ('Christopher', 40),\n",
       " ('Lee', 37),\n",
       " ('Richard', 36),\n",
       " ('J.', 32),\n",
       " ('Anthony', 31),\n",
       " ('Jose', 28),\n",
       " ('Joshua', 28)]"
      ]
     },
     "execution_count": 13,
     "metadata": {},
     "output_type": "execute_result"
    }
   ],
   "source": [
    "Counter(full_name).most_common(15)"
   ]
  },
  {
   "cell_type": "code",
   "execution_count": 15,
   "metadata": {},
   "outputs": [
    {
     "data": {
      "text/html": [
       "<div>\n",
       "<style scoped>\n",
       "    .dataframe tbody tr th:only-of-type {\n",
       "        vertical-align: middle;\n",
       "    }\n",
       "\n",
       "    .dataframe tbody tr th {\n",
       "        vertical-align: top;\n",
       "    }\n",
       "\n",
       "    .dataframe thead th {\n",
       "        text-align: right;\n",
       "    }\n",
       "</style>\n",
       "<table border=\"1\" class=\"dataframe\">\n",
       "  <thead>\n",
       "    <tr style=\"text-align: right;\">\n",
       "      <th></th>\n",
       "      <th>name_or_surname</th>\n",
       "      <th>frequency</th>\n",
       "    </tr>\n",
       "  </thead>\n",
       "  <tbody>\n",
       "    <tr>\n",
       "      <th>0</th>\n",
       "      <td>Michael</td>\n",
       "      <td>91</td>\n",
       "    </tr>\n",
       "    <tr>\n",
       "      <th>1</th>\n",
       "      <td>David</td>\n",
       "      <td>57</td>\n",
       "    </tr>\n",
       "    <tr>\n",
       "      <th>2</th>\n",
       "      <td>James</td>\n",
       "      <td>56</td>\n",
       "    </tr>\n",
       "    <tr>\n",
       "      <th>3</th>\n",
       "      <td>Robert</td>\n",
       "      <td>48</td>\n",
       "    </tr>\n",
       "    <tr>\n",
       "      <th>4</th>\n",
       "      <td>Joseph</td>\n",
       "      <td>48</td>\n",
       "    </tr>\n",
       "    <tr>\n",
       "      <th>5</th>\n",
       "      <td>William</td>\n",
       "      <td>47</td>\n",
       "    </tr>\n",
       "    <tr>\n",
       "      <th>6</th>\n",
       "      <td>Daniel</td>\n",
       "      <td>46</td>\n",
       "    </tr>\n",
       "    <tr>\n",
       "      <th>7</th>\n",
       "      <td>John</td>\n",
       "      <td>42</td>\n",
       "    </tr>\n",
       "    <tr>\n",
       "      <th>8</th>\n",
       "      <td>Christopher</td>\n",
       "      <td>40</td>\n",
       "    </tr>\n",
       "    <tr>\n",
       "      <th>9</th>\n",
       "      <td>Lee</td>\n",
       "      <td>37</td>\n",
       "    </tr>\n",
       "    <tr>\n",
       "      <th>10</th>\n",
       "      <td>Richard</td>\n",
       "      <td>36</td>\n",
       "    </tr>\n",
       "    <tr>\n",
       "      <th>11</th>\n",
       "      <td>J.</td>\n",
       "      <td>32</td>\n",
       "    </tr>\n",
       "    <tr>\n",
       "      <th>12</th>\n",
       "      <td>Anthony</td>\n",
       "      <td>31</td>\n",
       "    </tr>\n",
       "    <tr>\n",
       "      <th>13</th>\n",
       "      <td>Jose</td>\n",
       "      <td>28</td>\n",
       "    </tr>\n",
       "    <tr>\n",
       "      <th>14</th>\n",
       "      <td>Joshua</td>\n",
       "      <td>28</td>\n",
       "    </tr>\n",
       "  </tbody>\n",
       "</table>\n",
       "</div>"
      ],
      "text/plain": [
       "   name_or_surname  frequency\n",
       "0          Michael         91\n",
       "1            David         57\n",
       "2            James         56\n",
       "3           Robert         48\n",
       "4           Joseph         48\n",
       "5          William         47\n",
       "6           Daniel         46\n",
       "7             John         42\n",
       "8      Christopher         40\n",
       "9              Lee         37\n",
       "10         Richard         36\n",
       "11              J.         32\n",
       "12         Anthony         31\n",
       "13            Jose         28\n",
       "14          Joshua         28"
      ]
     },
     "execution_count": 15,
     "metadata": {},
     "output_type": "execute_result"
    }
   ],
   "source": [
    "df = pd.DataFrame(Counter(full_name).most_common(15), columns = [\"name_or_surname\", \"frequency\"])\n",
    "df"
   ]
  },
  {
   "cell_type": "code",
   "execution_count": 16,
   "metadata": {},
   "outputs": [
    {
     "data": {
      "image/png": "[encoded data removed]",
      "text/plain": [
       "<Figure size 864x576 with 1 Axes>"
      ]
     },
     "metadata": {
      "needs_background": "light"
     },
     "output_type": "display_data"
    }
   ],
   "source": [
    "plt.figure(figsize = (12, 8))\n",
    "ax = sns.barplot(data = df, x = \"name_or_surname\", y = \"frequency\")\n",
    "plt.title(\"Most common 15 Name or Surname of killed people\")\n",
    "plt.xlabel(\"Frequency\")\n",
    "plt.ylabel(\"Name or Surname of killed people\")\n",
    "plt.xticks(rotation=45)\n",
    "\n",
    "for p in ax.patches:\n",
    "    ax.annotate((p.get_height()), (p.get_x()+0.2, p.get_height()+0.5))"
   ]
  },
  {
   "cell_type": "code",
   "execution_count": 17,
   "metadata": {},
   "outputs": [
    {
     "data": {
      "text/plain": [
       "5900"
      ]
     },
     "execution_count": 17,
     "metadata": {},
     "output_type": "execute_result"
    }
   ],
   "source": [
    "name_list = []\n",
    "for p in pairs:\n",
    "    for i in p:\n",
    "        name_list.append(i)\n",
    "len(name_list)"
   ]
  },
  {
   "cell_type": "code",
   "execution_count": 18,
   "metadata": {
    "scrolled": true
   },
   "outputs": [
    {
     "data": {
      "text/plain": [
       "[('Michael', 91),\n",
       " ('James', 57),\n",
       " ('David', 57),\n",
       " ('Robert', 48),\n",
       " ('Joseph', 48),\n",
       " ('William', 47),\n",
       " ('Daniel', 46),\n",
       " ('John', 42),\n",
       " ('Christopher', 40),\n",
       " ('Lee', 38),\n",
       " ('Smith', 36),\n",
       " ('Richard', 36),\n",
       " ('Anthony', 32),\n",
       " ('Johnson', 32),\n",
       " ('J.', 32)]"
      ]
     },
     "execution_count": 18,
     "metadata": {},
     "output_type": "execute_result"
    }
   ],
   "source": [
    "Counter(name_list).most_common(15)"
   ]
  },
  {
   "cell_type": "code",
   "execution_count": 20,
   "metadata": {},
   "outputs": [
    {
     "data": {
      "text/html": [
       "<div>\n",
       "<style scoped>\n",
       "    .dataframe tbody tr th:only-of-type {\n",
       "        vertical-align: middle;\n",
       "    }\n",
       "\n",
       "    .dataframe tbody tr th {\n",
       "        vertical-align: top;\n",
       "    }\n",
       "\n",
       "    .dataframe thead th {\n",
       "        text-align: right;\n",
       "    }\n",
       "</style>\n",
       "<table border=\"1\" class=\"dataframe\">\n",
       "  <thead>\n",
       "    <tr style=\"text-align: right;\">\n",
       "      <th></th>\n",
       "      <th>Name_or_Surname</th>\n",
       "      <th>Frequency</th>\n",
       "    </tr>\n",
       "  </thead>\n",
       "  <tbody>\n",
       "    <tr>\n",
       "      <th>0</th>\n",
       "      <td>Michael</td>\n",
       "      <td>91</td>\n",
       "    </tr>\n",
       "    <tr>\n",
       "      <th>1</th>\n",
       "      <td>James</td>\n",
       "      <td>57</td>\n",
       "    </tr>\n",
       "    <tr>\n",
       "      <th>2</th>\n",
       "      <td>David</td>\n",
       "      <td>57</td>\n",
       "    </tr>\n",
       "    <tr>\n",
       "      <th>3</th>\n",
       "      <td>Robert</td>\n",
       "      <td>48</td>\n",
       "    </tr>\n",
       "    <tr>\n",
       "      <th>4</th>\n",
       "      <td>Joseph</td>\n",
       "      <td>48</td>\n",
       "    </tr>\n",
       "    <tr>\n",
       "      <th>5</th>\n",
       "      <td>William</td>\n",
       "      <td>47</td>\n",
       "    </tr>\n",
       "    <tr>\n",
       "      <th>6</th>\n",
       "      <td>Daniel</td>\n",
       "      <td>46</td>\n",
       "    </tr>\n",
       "    <tr>\n",
       "      <th>7</th>\n",
       "      <td>John</td>\n",
       "      <td>42</td>\n",
       "    </tr>\n",
       "    <tr>\n",
       "      <th>8</th>\n",
       "      <td>Christopher</td>\n",
       "      <td>40</td>\n",
       "    </tr>\n",
       "    <tr>\n",
       "      <th>9</th>\n",
       "      <td>Lee</td>\n",
       "      <td>38</td>\n",
       "    </tr>\n",
       "    <tr>\n",
       "      <th>10</th>\n",
       "      <td>Smith</td>\n",
       "      <td>36</td>\n",
       "    </tr>\n",
       "    <tr>\n",
       "      <th>11</th>\n",
       "      <td>Richard</td>\n",
       "      <td>36</td>\n",
       "    </tr>\n",
       "    <tr>\n",
       "      <th>12</th>\n",
       "      <td>Anthony</td>\n",
       "      <td>32</td>\n",
       "    </tr>\n",
       "    <tr>\n",
       "      <th>13</th>\n",
       "      <td>Johnson</td>\n",
       "      <td>32</td>\n",
       "    </tr>\n",
       "    <tr>\n",
       "      <th>14</th>\n",
       "      <td>J.</td>\n",
       "      <td>32</td>\n",
       "    </tr>\n",
       "  </tbody>\n",
       "</table>\n",
       "</div>"
      ],
      "text/plain": [
       "   Name_or_Surname  Frequency\n",
       "0          Michael         91\n",
       "1            James         57\n",
       "2            David         57\n",
       "3           Robert         48\n",
       "4           Joseph         48\n",
       "5          William         47\n",
       "6           Daniel         46\n",
       "7             John         42\n",
       "8      Christopher         40\n",
       "9              Lee         38\n",
       "10           Smith         36\n",
       "11         Richard         36\n",
       "12         Anthony         32\n",
       "13         Johnson         32\n",
       "14              J.         32"
      ]
     },
     "execution_count": 20,
     "metadata": {},
     "output_type": "execute_result"
    }
   ],
   "source": [
    "df_new = pd.DataFrame(Counter(name_list).most_common(15), columns = [\"Name_or_Surname\", \"Frequency\"])\n",
    "df_new"
   ]
  },
  {
   "cell_type": "code",
   "execution_count": 21,
   "metadata": {},
   "outputs": [
    {
     "data": {
      "image/png": "[encoded data removed]",
      "text/plain": [
       "<Figure size 864x576 with 1 Axes>"
      ]
     },
     "metadata": {
      "needs_background": "light"
     },
     "output_type": "display_data"
    }
   ],
   "source": [
    "plt.figure(figsize = (12, 8))\n",
    "ax = sns.barplot(data = df_new, x = \"Name_or_Surname\", y = \"Frequency\")\n",
    "plt.title(\"Most common 15 Name or Surname of killed people\")\n",
    "plt.xlabel(\"Frequency\")\n",
    "plt.ylabel(\"Name or Surname of killed people\")\n",
    "plt.xticks(rotation=45)\n",
    "\n",
    "for p in ax.patches:\n",
    "    ax.annotate((p.get_height()), (p.get_x()+0.2, p.get_height()+0.5))"
   ]
  },
  {
   "cell_type": "code",
   "execution_count": 44,
   "metadata": {},
   "outputs": [
    {
     "data": {
      "image/png": "[encoded data removed]",
      "text/plain": [
       "<Figure size 864x576 with 1 Axes>"
      ]
     },
     "metadata": {
      "needs_background": "light"
     },
     "output_type": "display_data"
    }
   ],
   "source": []
  },
  {
   "cell_type": "markdown",
   "metadata": {},
   "source": [
    "## 3. Killed People According to Races (Pie Chart)"
   ]
  },
  {
   "cell_type": "code",
   "execution_count": 22,
   "metadata": {},
   "outputs": [
    {
     "data": {
      "text/html": [
       "<div>\n",
       "<style scoped>\n",
       "    .dataframe tbody tr th:only-of-type {\n",
       "        vertical-align: middle;\n",
       "    }\n",
       "\n",
       "    .dataframe tbody tr th {\n",
       "        vertical-align: top;\n",
       "    }\n",
       "\n",
       "    .dataframe thead th {\n",
       "        text-align: right;\n",
       "    }\n",
       "</style>\n",
       "<table border=\"1\" class=\"dataframe\">\n",
       "  <thead>\n",
       "    <tr style=\"text-align: right;\">\n",
       "      <th></th>\n",
       "      <th>id</th>\n",
       "      <th>name</th>\n",
       "      <th>date</th>\n",
       "      <th>manner_of_death</th>\n",
       "      <th>armed</th>\n",
       "      <th>age</th>\n",
       "      <th>gender</th>\n",
       "      <th>race</th>\n",
       "      <th>city</th>\n",
       "      <th>state</th>\n",
       "      <th>signs_of_mental_illness</th>\n",
       "      <th>threat_level</th>\n",
       "      <th>flee</th>\n",
       "      <th>body_camera</th>\n",
       "    </tr>\n",
       "  </thead>\n",
       "  <tbody>\n",
       "    <tr>\n",
       "      <th>0</th>\n",
       "      <td>3</td>\n",
       "      <td>Tim Elliot</td>\n",
       "      <td>02/01/15</td>\n",
       "      <td>shot</td>\n",
       "      <td>gun</td>\n",
       "      <td>53.0</td>\n",
       "      <td>M</td>\n",
       "      <td>A</td>\n",
       "      <td>Shelton</td>\n",
       "      <td>WA</td>\n",
       "      <td>True</td>\n",
       "      <td>attack</td>\n",
       "      <td>Not fleeing</td>\n",
       "      <td>False</td>\n",
       "    </tr>\n",
       "    <tr>\n",
       "      <th>1</th>\n",
       "      <td>4</td>\n",
       "      <td>Lewis Lee Lembke</td>\n",
       "      <td>02/01/15</td>\n",
       "      <td>shot</td>\n",
       "      <td>gun</td>\n",
       "      <td>47.0</td>\n",
       "      <td>M</td>\n",
       "      <td>W</td>\n",
       "      <td>Aloha</td>\n",
       "      <td>OR</td>\n",
       "      <td>False</td>\n",
       "      <td>attack</td>\n",
       "      <td>Not fleeing</td>\n",
       "      <td>False</td>\n",
       "    </tr>\n",
       "    <tr>\n",
       "      <th>2</th>\n",
       "      <td>5</td>\n",
       "      <td>John Paul Quintero</td>\n",
       "      <td>03/01/15</td>\n",
       "      <td>shot and Tasered</td>\n",
       "      <td>unarmed</td>\n",
       "      <td>23.0</td>\n",
       "      <td>M</td>\n",
       "      <td>H</td>\n",
       "      <td>Wichita</td>\n",
       "      <td>KS</td>\n",
       "      <td>False</td>\n",
       "      <td>other</td>\n",
       "      <td>Not fleeing</td>\n",
       "      <td>False</td>\n",
       "    </tr>\n",
       "    <tr>\n",
       "      <th>3</th>\n",
       "      <td>8</td>\n",
       "      <td>Matthew Hoffman</td>\n",
       "      <td>04/01/15</td>\n",
       "      <td>shot</td>\n",
       "      <td>toy weapon</td>\n",
       "      <td>32.0</td>\n",
       "      <td>M</td>\n",
       "      <td>W</td>\n",
       "      <td>San Francisco</td>\n",
       "      <td>CA</td>\n",
       "      <td>True</td>\n",
       "      <td>attack</td>\n",
       "      <td>Not fleeing</td>\n",
       "      <td>False</td>\n",
       "    </tr>\n",
       "    <tr>\n",
       "      <th>4</th>\n",
       "      <td>9</td>\n",
       "      <td>Michael Rodriguez</td>\n",
       "      <td>04/01/15</td>\n",
       "      <td>shot</td>\n",
       "      <td>nail gun</td>\n",
       "      <td>39.0</td>\n",
       "      <td>M</td>\n",
       "      <td>H</td>\n",
       "      <td>Evans</td>\n",
       "      <td>CO</td>\n",
       "      <td>False</td>\n",
       "      <td>attack</td>\n",
       "      <td>Not fleeing</td>\n",
       "      <td>False</td>\n",
       "    </tr>\n",
       "  </tbody>\n",
       "</table>\n",
       "</div>"
      ],
      "text/plain": [
       "   id                name      date   manner_of_death       armed   age  \\\n",
       "0   3          Tim Elliot  02/01/15              shot         gun  53.0   \n",
       "1   4    Lewis Lee Lembke  02/01/15              shot         gun  47.0   \n",
       "2   5  John Paul Quintero  03/01/15  shot and Tasered     unarmed  23.0   \n",
       "3   8     Matthew Hoffman  04/01/15              shot  toy weapon  32.0   \n",
       "4   9   Michael Rodriguez  04/01/15              shot    nail gun  39.0   \n",
       "\n",
       "  gender race           city state  signs_of_mental_illness threat_level  \\\n",
       "0      M    A        Shelton    WA                     True       attack   \n",
       "1      M    W          Aloha    OR                    False       attack   \n",
       "2      M    H        Wichita    KS                    False        other   \n",
       "3      M    W  San Francisco    CA                     True       attack   \n",
       "4      M    H          Evans    CO                    False       attack   \n",
       "\n",
       "          flee  body_camera  \n",
       "0  Not fleeing        False  \n",
       "1  Not fleeing        False  \n",
       "2  Not fleeing        False  \n",
       "3  Not fleeing        False  \n",
       "4  Not fleeing        False  "
      ]
     },
     "execution_count": 22,
     "metadata": {},
     "output_type": "execute_result"
    }
   ],
   "source": [
    "kill.head()"
   ]
  },
  {
   "cell_type": "code",
   "execution_count": 23,
   "metadata": {
    "_uuid": "73ef9a67518196c14338e28236b5054186fabdc1"
   },
   "outputs": [
    {
     "data": {
      "text/plain": [
       "array(['A', 'W', 'H', 'B', 'O', nan, 'N'], dtype=object)"
      ]
     },
     "execution_count": 23,
     "metadata": {},
     "output_type": "execute_result"
    }
   ],
   "source": [
    "kill.race.unique()"
   ]
  },
  {
   "cell_type": "code",
   "execution_count": 24,
   "metadata": {},
   "outputs": [
    {
     "data": {
      "text/plain": [
       "W    1201\n",
       "B     618\n",
       "H     423\n",
       "A      39\n",
       "N      31\n",
       "O      28\n",
       "Name: race, dtype: int64"
      ]
     },
     "execution_count": 24,
     "metadata": {},
     "output_type": "execute_result"
    }
   ],
   "source": [
    "kill.race.value_counts()"
   ]
  },
  {
   "cell_type": "code",
   "execution_count": 25,
   "metadata": {},
   "outputs": [
    {
     "name": "stdout",
     "output_type": "stream",
     "text": [
      "<class 'pandas.core.frame.DataFrame'>\n",
      "RangeIndex: 2535 entries, 0 to 2534\n",
      "Data columns (total 14 columns):\n",
      " #   Column                   Non-Null Count  Dtype  \n",
      "---  ------                   --------------  -----  \n",
      " 0   id                       2535 non-null   int64  \n",
      " 1   name                     2535 non-null   object \n",
      " 2   date                     2535 non-null   object \n",
      " 3   manner_of_death          2535 non-null   object \n",
      " 4   armed                    2526 non-null   object \n",
      " 5   age                      2458 non-null   float64\n",
      " 6   gender                   2535 non-null   object \n",
      " 7   race                     2340 non-null   object \n",
      " 8   city                     2535 non-null   object \n",
      " 9   state                    2535 non-null   object \n",
      " 10  signs_of_mental_illness  2535 non-null   bool   \n",
      " 11  threat_level             2535 non-null   object \n",
      " 12  flee                     2470 non-null   object \n",
      " 13  body_camera              2535 non-null   bool   \n",
      "dtypes: bool(2), float64(1), int64(1), object(10)\n",
      "memory usage: 242.7+ KB\n"
     ]
    }
   ],
   "source": [
    "kill.info()"
   ]
  },
  {
   "cell_type": "markdown",
   "metadata": {},
   "source": [
    "Problem: missing value on race column."
   ]
  },
  {
   "cell_type": "markdown",
   "metadata": {},
   "source": [
    "**INSTRUCTION-1: Drop the all raws that contain missing value (dropna)**"
   ]
  },
  {
   "cell_type": "code",
   "execution_count": 26,
   "metadata": {},
   "outputs": [
    {
     "data": {
      "text/plain": [
       "(195, 14)"
      ]
     },
     "execution_count": 26,
     "metadata": {},
     "output_type": "execute_result"
    }
   ],
   "source": [
    "kill[kill[\"race\"].isnull()].shape"
   ]
  },
  {
   "cell_type": "code",
   "execution_count": 27,
   "metadata": {},
   "outputs": [],
   "source": [
    "kill_race = kill.dropna(axis = 0, subset = [\"race\"])"
   ]
  },
  {
   "cell_type": "code",
   "execution_count": 28,
   "metadata": {},
   "outputs": [
    {
     "data": {
      "text/html": [
       "<div>\n",
       "<style scoped>\n",
       "    .dataframe tbody tr th:only-of-type {\n",
       "        vertical-align: middle;\n",
       "    }\n",
       "\n",
       "    .dataframe tbody tr th {\n",
       "        vertical-align: top;\n",
       "    }\n",
       "\n",
       "    .dataframe thead th {\n",
       "        text-align: right;\n",
       "    }\n",
       "</style>\n",
       "<table border=\"1\" class=\"dataframe\">\n",
       "  <thead>\n",
       "    <tr style=\"text-align: right;\">\n",
       "      <th></th>\n",
       "      <th>id</th>\n",
       "      <th>name</th>\n",
       "      <th>date</th>\n",
       "      <th>manner_of_death</th>\n",
       "      <th>armed</th>\n",
       "      <th>age</th>\n",
       "      <th>gender</th>\n",
       "      <th>race</th>\n",
       "      <th>city</th>\n",
       "      <th>state</th>\n",
       "      <th>signs_of_mental_illness</th>\n",
       "      <th>threat_level</th>\n",
       "      <th>flee</th>\n",
       "      <th>body_camera</th>\n",
       "    </tr>\n",
       "  </thead>\n",
       "  <tbody>\n",
       "  </tbody>\n",
       "</table>\n",
       "</div>"
      ],
      "text/plain": [
       "Empty DataFrame\n",
       "Columns: [id, name, date, manner_of_death, armed, age, gender, race, city, state, signs_of_mental_illness, threat_level, flee, body_camera]\n",
       "Index: []"
      ]
     },
     "execution_count": 28,
     "metadata": {},
     "output_type": "execute_result"
    }
   ],
   "source": [
    "kill_race[kill_race[\"race\"].isnull()]"
   ]
  },
  {
   "cell_type": "markdown",
   "metadata": {},
   "source": [
    "**INSTRUCTION-2: Demonstrate Race Ratio of Killed People by a Pie Chart**"
   ]
  },
  {
   "cell_type": "code",
   "execution_count": 32,
   "metadata": {},
   "outputs": [
    {
     "data": {
      "text/plain": [
       "<matplotlib.axes._subplots.AxesSubplot at 0x18186a21f08>"
      ]
     },
     "execution_count": 32,
     "metadata": {},
     "output_type": "execute_result"
    },
    {
     "data": {
      "image/png": "[encoded data removed]",
      "text/plain": [
       "<Figure size 864x576 with 1 Axes>"
      ]
     },
     "metadata": {},
     "output_type": "display_data"
    }
   ],
   "source": [
    "kill_race.race.value_counts(dropna=False).plot.pie(figsize=(12, 8), autopct='%1.1f%%')"
   ]
  },
  {
   "cell_type": "code",
   "execution_count": 35,
   "metadata": {},
   "outputs": [
    {
     "data": {
      "text/plain": [
       "Text(0.5, 1.0, 'Killed People According to Races')"
      ]
     },
     "execution_count": 35,
     "metadata": {},
     "output_type": "execute_result"
    },
    {
     "data": {
      "image/png": "[encoded data removed]",
      "text/plain": [
       "<Figure size 864x576 with 1 Axes>"
      ]
     },
     "metadata": {},
     "output_type": "display_data"
    }
   ],
   "source": [
    "ratio = kill_race.race.value_counts(normalize=True)*100\n",
    "plt.figure(figsize = (12, 8))\n",
    "kill_race.race.value_counts(normalize=True).plot.pie(autopct='%1.1f%%')\n",
    "plt.title(\"Killed People According to Races\", color = \"blue\", fontsize = \"15\")"
   ]
  },
  {
   "cell_type": "code",
   "execution_count": 203,
   "metadata": {
    "scrolled": true
   },
   "outputs": [
    {
     "data": {
      "text/plain": [
       "W    51.324786\n",
       "B    26.410256\n",
       "H    18.076923\n",
       "A     1.666667\n",
       "N     1.324786\n",
       "O     1.196581\n",
       "Name: race, dtype: float64"
      ]
     },
     "execution_count": 203,
     "metadata": {},
     "output_type": "execute_result"
    }
   ],
   "source": [
    "ratio"
   ]
  },
  {
   "cell_type": "code",
   "execution_count": 58,
   "metadata": {},
   "outputs": [
    {
     "data": {
      "text/plain": [
       "W    1201\n",
       "B     618\n",
       "H     423\n",
       "A      39\n",
       "N      31\n",
       "O      28\n",
       "Name: race, dtype: int64"
      ]
     },
     "execution_count": 58,
     "metadata": {},
     "output_type": "execute_result"
    }
   ],
   "source": [
    "kill_race.race.value_counts(dropna = False)"
   ]
  },
  {
   "cell_type": "code",
   "execution_count": 222,
   "metadata": {},
   "outputs": [
    {
     "data": {
      "image/png": "[encoded data removed]",
      "text/plain": [
       "<Figure size 864x576 with 1 Axes>"
      ]
     },
     "metadata": {},
     "output_type": "display_data"
    }
   ],
   "source": [
    "fig, ax = plt.subplots(figsize=(12,8))\n",
    "\n",
    "ax.pie(ratio, autopct='%1.1f%%', labels = kill_race.race.value_counts().index, shadow=False)\n",
    "ax.axis('equal')  # Equal aspect ratio ensures that pie is drawn as a circle.\n",
    "plt.title(\"Killed People According to Races\", color = \"blue\", fontsize = \"15\")\n",
    "plt.show()"
   ]
  },
  {
   "cell_type": "code",
   "execution_count": 70,
   "metadata": {
    "_uuid": "d9ff7e72fbbf53e49ffb71730410a1e0b45e378a"
   },
   "outputs": [
    {
     "data": {
      "text/plain": [
       "Text(0.5, 1.0, 'Killed People According to Races')"
      ]
     },
     "execution_count": 70,
     "metadata": {},
     "output_type": "execute_result"
    },
    {
     "data": {
      "image/png": "[encoded data removed]",
      "text/plain": [
       "<Figure size 720x720 with 1 Axes>"
      ]
     },
     "metadata": {},
     "output_type": "display_data"
    }
   ],
   "source": []
  },
  {
   "cell_type": "markdown",
   "metadata": {},
   "source": [
    "## 4a.Box plot of age in both genders separeted by manner of death."
   ]
  },
  {
   "cell_type": "code",
   "execution_count": 3,
   "metadata": {
    "_uuid": "9d8a16335d60780773cba16fb23066e2cf48be8d"
   },
   "outputs": [
    {
     "data": {
      "text/html": [
       "<div>\n",
       "<style scoped>\n",
       "    .dataframe tbody tr th:only-of-type {\n",
       "        vertical-align: middle;\n",
       "    }\n",
       "\n",
       "    .dataframe tbody tr th {\n",
       "        vertical-align: top;\n",
       "    }\n",
       "\n",
       "    .dataframe thead th {\n",
       "        text-align: right;\n",
       "    }\n",
       "</style>\n",
       "<table border=\"1\" class=\"dataframe\">\n",
       "  <thead>\n",
       "    <tr style=\"text-align: right;\">\n",
       "      <th></th>\n",
       "      <th>id</th>\n",
       "      <th>name</th>\n",
       "      <th>date</th>\n",
       "      <th>manner_of_death</th>\n",
       "      <th>armed</th>\n",
       "      <th>age</th>\n",
       "      <th>gender</th>\n",
       "      <th>race</th>\n",
       "      <th>city</th>\n",
       "      <th>state</th>\n",
       "      <th>signs_of_mental_illness</th>\n",
       "      <th>threat_level</th>\n",
       "      <th>flee</th>\n",
       "      <th>body_camera</th>\n",
       "    </tr>\n",
       "  </thead>\n",
       "  <tbody>\n",
       "    <tr>\n",
       "      <th>0</th>\n",
       "      <td>3</td>\n",
       "      <td>Tim Elliot</td>\n",
       "      <td>02/01/15</td>\n",
       "      <td>shot</td>\n",
       "      <td>gun</td>\n",
       "      <td>53.0</td>\n",
       "      <td>M</td>\n",
       "      <td>A</td>\n",
       "      <td>Shelton</td>\n",
       "      <td>WA</td>\n",
       "      <td>True</td>\n",
       "      <td>attack</td>\n",
       "      <td>Not fleeing</td>\n",
       "      <td>False</td>\n",
       "    </tr>\n",
       "    <tr>\n",
       "      <th>1</th>\n",
       "      <td>4</td>\n",
       "      <td>Lewis Lee Lembke</td>\n",
       "      <td>02/01/15</td>\n",
       "      <td>shot</td>\n",
       "      <td>gun</td>\n",
       "      <td>47.0</td>\n",
       "      <td>M</td>\n",
       "      <td>W</td>\n",
       "      <td>Aloha</td>\n",
       "      <td>OR</td>\n",
       "      <td>False</td>\n",
       "      <td>attack</td>\n",
       "      <td>Not fleeing</td>\n",
       "      <td>False</td>\n",
       "    </tr>\n",
       "    <tr>\n",
       "      <th>2</th>\n",
       "      <td>5</td>\n",
       "      <td>John Paul Quintero</td>\n",
       "      <td>03/01/15</td>\n",
       "      <td>shot and Tasered</td>\n",
       "      <td>unarmed</td>\n",
       "      <td>23.0</td>\n",
       "      <td>M</td>\n",
       "      <td>H</td>\n",
       "      <td>Wichita</td>\n",
       "      <td>KS</td>\n",
       "      <td>False</td>\n",
       "      <td>other</td>\n",
       "      <td>Not fleeing</td>\n",
       "      <td>False</td>\n",
       "    </tr>\n",
       "    <tr>\n",
       "      <th>3</th>\n",
       "      <td>8</td>\n",
       "      <td>Matthew Hoffman</td>\n",
       "      <td>04/01/15</td>\n",
       "      <td>shot</td>\n",
       "      <td>toy weapon</td>\n",
       "      <td>32.0</td>\n",
       "      <td>M</td>\n",
       "      <td>W</td>\n",
       "      <td>San Francisco</td>\n",
       "      <td>CA</td>\n",
       "      <td>True</td>\n",
       "      <td>attack</td>\n",
       "      <td>Not fleeing</td>\n",
       "      <td>False</td>\n",
       "    </tr>\n",
       "    <tr>\n",
       "      <th>4</th>\n",
       "      <td>9</td>\n",
       "      <td>Michael Rodriguez</td>\n",
       "      <td>04/01/15</td>\n",
       "      <td>shot</td>\n",
       "      <td>nail gun</td>\n",
       "      <td>39.0</td>\n",
       "      <td>M</td>\n",
       "      <td>H</td>\n",
       "      <td>Evans</td>\n",
       "      <td>CO</td>\n",
       "      <td>False</td>\n",
       "      <td>attack</td>\n",
       "      <td>Not fleeing</td>\n",
       "      <td>False</td>\n",
       "    </tr>\n",
       "  </tbody>\n",
       "</table>\n",
       "</div>"
      ],
      "text/plain": [
       "   id                name      date   manner_of_death       armed   age  \\\n",
       "0   3          Tim Elliot  02/01/15              shot         gun  53.0   \n",
       "1   4    Lewis Lee Lembke  02/01/15              shot         gun  47.0   \n",
       "2   5  John Paul Quintero  03/01/15  shot and Tasered     unarmed  23.0   \n",
       "3   8     Matthew Hoffman  04/01/15              shot  toy weapon  32.0   \n",
       "4   9   Michael Rodriguez  04/01/15              shot    nail gun  39.0   \n",
       "\n",
       "  gender race           city state  signs_of_mental_illness threat_level  \\\n",
       "0      M    A        Shelton    WA                     True       attack   \n",
       "1      M    W          Aloha    OR                    False       attack   \n",
       "2      M    H        Wichita    KS                    False        other   \n",
       "3      M    W  San Francisco    CA                     True       attack   \n",
       "4      M    H          Evans    CO                    False       attack   \n",
       "\n",
       "          flee  body_camera  \n",
       "0  Not fleeing        False  \n",
       "1  Not fleeing        False  \n",
       "2  Not fleeing        False  \n",
       "3  Not fleeing        False  \n",
       "4  Not fleeing        False  "
      ]
     },
     "execution_count": 3,
     "metadata": {},
     "output_type": "execute_result"
    }
   ],
   "source": [
    "kill.head()"
   ]
  },
  {
   "cell_type": "code",
   "execution_count": 4,
   "metadata": {
    "_uuid": "9c0528daf1c171ae70c1c1f2f2c1f73ebacba85c"
   },
   "outputs": [
    {
     "data": {
      "text/plain": [
       "array(['shot', 'shot and Tasered'], dtype=object)"
      ]
     },
     "execution_count": 4,
     "metadata": {},
     "output_type": "execute_result"
    }
   ],
   "source": [
    "kill.manner_of_death.unique()"
   ]
  },
  {
   "cell_type": "markdown",
   "metadata": {},
   "source": [
    "**INSTRUCTION: Demonstrate the Qurtiles of age in both genders separeted by manner of death.**"
   ]
  },
  {
   "cell_type": "code",
   "execution_count": 9,
   "metadata": {},
   "outputs": [
    {
     "data": {
      "text/plain": [
       "<matplotlib.axes._subplots.AxesSubplot at 0x1903a57e548>"
      ]
     },
     "execution_count": 9,
     "metadata": {},
     "output_type": "execute_result"
    },
    {
     "data": {
      "image/png": "[encoded data removed]",
      "text/plain": [
       "<Figure size 432x288 with 1 Axes>"
      ]
     },
     "metadata": {
      "needs_background": "light"
     },
     "output_type": "display_data"
    }
   ],
   "source": [
    "sns.boxplot(x = \"gender\", y = \"age\", data = kill, hue = \"manner_of_death\")"
   ]
  },
  {
   "cell_type": "code",
   "execution_count": 73,
   "metadata": {
    "_uuid": "d05b6d0119e423641a49770c28d22ee4069b83ff"
   },
   "outputs": [
    {
     "data": {
      "image/png": "[encoded data removed]",
      "text/plain": [
       "<Figure size 432x288 with 1 Axes>"
      ]
     },
     "metadata": {
      "needs_background": "light"
     },
     "output_type": "display_data"
    }
   ],
   "source": []
  },
  {
   "cell_type": "markdown",
   "metadata": {
    "_uuid": "9b3ff5b459aa93bbce95ba93f6939708473ef040"
   },
   "source": [
    "## 4b. Swarm Plot (Do not use in large datasets. The memory will not be enogh!)"
   ]
  },
  {
   "cell_type": "markdown",
   "metadata": {},
   "source": [
    "**INSTRUCTION: Demonstrate the age in both genders separeted by manner of death by a swarm plot.**"
   ]
  },
  {
   "cell_type": "code",
   "execution_count": 10,
   "metadata": {},
   "outputs": [
    {
     "data": {
      "text/plain": [
       "<matplotlib.axes._subplots.AxesSubplot at 0x1903a648948>"
      ]
     },
     "execution_count": 10,
     "metadata": {},
     "output_type": "execute_result"
    },
    {
     "data": {
      "image/png": "[encoded data removed]",
      "text/plain": [
       "<Figure size 432x288 with 1 Axes>"
      ]
     },
     "metadata": {
      "needs_background": "light"
     },
     "output_type": "display_data"
    }
   ],
   "source": [
    "sns.swarmplot(x = \"gender\", y = \"age\", data = kill, hue = \"manner_of_death\")"
   ]
  },
  {
   "cell_type": "code",
   "execution_count": 75,
   "metadata": {
    "_uuid": "556a9aedc3e3603530f75e5ae09db11c4524d735",
    "scrolled": true
   },
   "outputs": [
    {
     "data": {
      "image/png": "[encoded data removed]",
      "text/plain": [
       "<Figure size 432x288 with 1 Axes>"
      ]
     },
     "metadata": {
      "needs_background": "light"
     },
     "output_type": "display_data"
    }
   ],
   "source": []
  },
  {
   "cell_type": "markdown",
   "metadata": {
    "_uuid": "f514733c3d5d1bfca711f4c4ae41611848e23d20"
   },
   "source": [
    "## 5. Kill properties (Count Plots)"
   ]
  },
  {
   "cell_type": "markdown",
   "metadata": {},
   "source": [
    "**INSTRUCTION-1: Plot number of poeple by gender**"
   ]
  },
  {
   "cell_type": "code",
   "execution_count": 15,
   "metadata": {},
   "outputs": [
    {
     "data": {
      "text/plain": [
       "Text(0.5, 1.0, 'gender')"
      ]
     },
     "execution_count": 15,
     "metadata": {},
     "output_type": "execute_result"
    },
    {
     "data": {
      "image/png": "[encoded data removed]",
      "text/plain": [
       "<Figure size 432x288 with 1 Axes>"
      ]
     },
     "metadata": {
      "needs_background": "light"
     },
     "output_type": "display_data"
    }
   ],
   "source": [
    "sns.countplot(x = \"gender\", data = kill)\n",
    "plt.title(\"gender\", color=\"b\", fontsize = 15)"
   ]
  },
  {
   "cell_type": "code",
   "execution_count": 78,
   "metadata": {
    "_cell_guid": "2432e07b-41c4-4893-9e31-b7945d9e4cd5",
    "_uuid": "8995af7e4b8b728d2bcfcff466fad8369841e1a7"
   },
   "outputs": [
    {
     "data": {
      "text/plain": [
       "Text(0.5, 1.0, 'gender')"
      ]
     },
     "execution_count": 78,
     "metadata": {},
     "output_type": "execute_result"
    },
    {
     "data": {
      "image/png": "[encoded data removed]",
      "text/plain": [
       "<Figure size 432x288 with 1 Axes>"
      ]
     },
     "metadata": {
      "needs_background": "light"
     },
     "output_type": "display_data"
    }
   ],
   "source": []
  },
  {
   "cell_type": "markdown",
   "metadata": {},
   "source": [
    "**INSTRUCTION-2: Plot 7 most common kill weapons**"
   ]
  },
  {
   "cell_type": "code",
   "execution_count": 23,
   "metadata": {},
   "outputs": [
    {
     "data": {
      "text/plain": [
       "gun             1398\n",
       "knife            373\n",
       "vehicle          177\n",
       "unarmed          171\n",
       "undetermined     117\n",
       "toy weapon       104\n",
       "machete           18\n",
       "Name: armed, dtype: int64"
      ]
     },
     "execution_count": 23,
     "metadata": {},
     "output_type": "execute_result"
    }
   ],
   "source": [
    "kill.armed.value_counts().head(7)"
   ]
  },
  {
   "cell_type": "code",
   "execution_count": 32,
   "metadata": {},
   "outputs": [
    {
     "data": {
      "text/plain": [
       "Text(0, 0.5, 'Nummber of Weapon')"
      ]
     },
     "execution_count": 32,
     "metadata": {},
     "output_type": "execute_result"
    },
    {
     "data": {
      "image/png": "[encoded data removed]",
      "text/plain": [
       "<Figure size 720x576 with 1 Axes>"
      ]
     },
     "metadata": {
      "needs_background": "light"
     },
     "output_type": "display_data"
    }
   ],
   "source": [
    "plt.figure(figsize = (10,8))\n",
    "sns.barplot(x = kill.armed.value_counts().head(7).index, y = kill.armed.value_counts().head(7).values)\n",
    "plt.title(\"Kill weapon\", color = \"b\", fontsize = 15)\n",
    "plt.xlabel(\"Weapon Types\")\n",
    "plt.ylabel(\"Nummber of Weapon\")"
   ]
  },
  {
   "cell_type": "code",
   "execution_count": 93,
   "metadata": {
    "_cell_guid": "411ff3c0-b134-4e75-8dfa-187e94509f71",
    "_uuid": "848b0f0a11fb8b9c062da2f3bdf53d337e3b0fa0"
   },
   "outputs": [
    {
     "data": {
      "text/plain": [
       "Text(0.5, 1.0, 'Kill weapon')"
      ]
     },
     "execution_count": 93,
     "metadata": {},
     "output_type": "execute_result"
    },
    {
     "data": {
      "image/png": "[encoded data removed]",
      "text/plain": [
       "<Figure size 720x504 with 1 Axes>"
      ]
     },
     "metadata": {
      "needs_background": "light"
     },
     "output_type": "display_data"
    }
   ],
   "source": []
  },
  {
   "cell_type": "markdown",
   "metadata": {},
   "source": [
    "**INSTRUCTION-3: Plot number of age of killed people under two groups : Under 25 and Above 25**"
   ]
  },
  {
   "cell_type": "code",
   "execution_count": 53,
   "metadata": {
    "_cell_guid": "2eb8f78f-2ac7-4997-a200-282f90b8f7dc",
    "_uuid": "2eacfe5833f33799ee9100405846925a67080b24"
   },
   "outputs": [
    {
     "data": {
      "text/plain": [
       "Text(0, 0.5, 'Number of Killed People')"
      ]
     },
     "execution_count": 53,
     "metadata": {},
     "output_type": "execute_result"
    },
    {
     "data": {
      "image/png": "[encoded data removed]",
      "text/plain": [
       "<Figure size 432x288 with 1 Axes>"
      ]
     },
     "metadata": {
      "needs_background": "light"
     },
     "output_type": "display_data"
    }
   ],
   "source": [
    "plt.figure(figsize = (6,4))\n",
    "sns.countplot(x = kill.age < 25)\n",
    "plt.title(\"Age of killed people\", color = \"b\", fontsize = 15)\n",
    "plt.xlabel(\"age\")\n",
    "plt.ylabel(\"Number of Killed People\")"
   ]
  },
  {
   "cell_type": "code",
   "execution_count": 54,
   "metadata": {},
   "outputs": [],
   "source": [
    "below25 = kill.age < 25\n",
    "above25 = kill.age >= 25\n",
    "mapping = {False : \"above25\", True : \"below25\"}\n",
    "series_kill = (kill.age < 25).map(mapping)"
   ]
  },
  {
   "cell_type": "code",
   "execution_count": 55,
   "metadata": {},
   "outputs": [
    {
     "data": {
      "text/plain": [
       "Text(0, 0.5, 'Number of Killed People')"
      ]
     },
     "execution_count": 55,
     "metadata": {},
     "output_type": "execute_result"
    },
    {
     "data": {
      "image/png": "[encoded data removed]",
      "text/plain": [
       "<Figure size 432x288 with 1 Axes>"
      ]
     },
     "metadata": {
      "needs_background": "light"
     },
     "output_type": "display_data"
    }
   ],
   "source": [
    "plt.figure(figsize = (6,4))\n",
    "sns.countplot(x = series_kill)\n",
    "plt.title(\"Age of killed people\", color = \"b\", fontsize = 15)\n",
    "plt.xlabel(\"age\")\n",
    "plt.ylabel(\"Number of Killed People\")"
   ]
  },
  {
   "cell_type": "code",
   "execution_count": 82,
   "metadata": {
    "_cell_guid": "2eb8f78f-2ac7-4997-a200-282f90b8f7dc",
    "_uuid": "2eacfe5833f33799ee9100405846925a67080b24"
   },
   "outputs": [
    {
     "data": {
      "text/plain": [
       "Text(0.5, 1.0, 'Age of killed people')"
      ]
     },
     "execution_count": 82,
     "metadata": {},
     "output_type": "execute_result"
    },
    {
     "data": {
      "image/png": "[encoded data removed]",
      "text/plain": [
       "<Figure size 432x288 with 1 Axes>"
      ]
     },
     "metadata": {
      "needs_background": "light"
     },
     "output_type": "display_data"
    }
   ],
   "source": []
  },
  {
   "cell_type": "markdown",
   "metadata": {},
   "source": [
    "**INSTRUCTION-4: Plot number of killed people by race**"
   ]
  },
  {
   "cell_type": "code",
   "execution_count": 62,
   "metadata": {},
   "outputs": [
    {
     "data": {
      "text/plain": [
       "Text(0.5, 0, 'race')"
      ]
     },
     "execution_count": 62,
     "metadata": {},
     "output_type": "execute_result"
    },
    {
     "data": {
      "image/png": "[encoded data removed]",
      "text/plain": [
       "<Figure size 432x288 with 1 Axes>"
      ]
     },
     "metadata": {
      "needs_background": "light"
     },
     "output_type": "display_data"
    }
   ],
   "source": [
    "plt.figure(figsize = (6,4))\n",
    "sns.countplot(x = kill_race.race)\n",
    "plt.title(\"Race of killed people\", color = \"b\", fontsize = 15)\n",
    "plt.xlabel(\"race\")"
   ]
  },
  {
   "cell_type": "code",
   "execution_count": 83,
   "metadata": {
    "_cell_guid": "d58b6bb2-c3d8-442b-bada-c6760806a025",
    "_uuid": "7fb176fb40982d8ae3e78ad599ceb534db71d270"
   },
   "outputs": [
    {
     "data": {
      "text/plain": [
       "Text(0.5, 1.0, 'Race of killed people')"
      ]
     },
     "execution_count": 83,
     "metadata": {},
     "output_type": "execute_result"
    },
    {
     "data": {
      "image/png": "[encoded data removed]",
      "text/plain": [
       "<Figure size 432x288 with 1 Axes>"
      ]
     },
     "metadata": {
      "needs_background": "light"
     },
     "output_type": "display_data"
    }
   ],
   "source": []
  },
  {
   "cell_type": "markdown",
   "metadata": {},
   "source": [
    "**INSTRUCTION-5: Plot 12 most dangerous cities**"
   ]
  },
  {
   "cell_type": "code",
   "execution_count": 73,
   "metadata": {},
   "outputs": [
    {
     "data": {
      "text/plain": [
       "Los Angeles      39\n",
       "Phoenix          31\n",
       "Houston          27\n",
       "Chicago          25\n",
       "Las Vegas        21\n",
       "San Antonio      20\n",
       "Columbus         19\n",
       "Austin           18\n",
       "Miami            18\n",
       "St. Louis        15\n",
       "Oklahoma City    14\n",
       "Tucson           14\n",
       "Name: city, dtype: int64"
      ]
     },
     "execution_count": 73,
     "metadata": {},
     "output_type": "execute_result"
    }
   ],
   "source": [
    "kill.city.value_counts().head(12)"
   ]
  },
  {
   "cell_type": "code",
   "execution_count": 78,
   "metadata": {},
   "outputs": [
    {
     "data": {
      "text/plain": [
       "(array([ 0,  1,  2,  3,  4,  5,  6,  7,  8,  9, 10, 11]),\n",
       " <a list of 12 Text xticklabel objects>)"
      ]
     },
     "execution_count": 78,
     "metadata": {},
     "output_type": "execute_result"
    },
    {
     "data": {
      "image/png": "[encoded data removed]",
      "text/plain": [
       "<Figure size 720x432 with 1 Axes>"
      ]
     },
     "metadata": {
      "needs_background": "light"
     },
     "output_type": "display_data"
    }
   ],
   "source": [
    "plt.figure(figsize = (10,6))\n",
    "sns.barplot(x = kill.city.value_counts().head(12).index, y = kill.city.value_counts().head(12).values)\n",
    "plt.title(\"Most dangerous cities\", color = \"b\", fontsize = 15)\n",
    "plt.xticks(rotation=45)"
   ]
  },
  {
   "cell_type": "code",
   "execution_count": 84,
   "metadata": {
    "_cell_guid": "e13099a8-d7e5-475e-b9a1-f878274d6e8c",
    "_uuid": "81a52a4f4ef038f99729d980ac87f07ebe7874de"
   },
   "outputs": [
    {
     "data": {
      "text/plain": [
       "Text(0.5, 1.0, 'Most dangerous cities')"
      ]
     },
     "execution_count": 84,
     "metadata": {},
     "output_type": "execute_result"
    },
    {
     "data": {
      "image/png": "[encoded data removed]",
      "text/plain": [
       "<Figure size 720x504 with 1 Axes>"
      ]
     },
     "metadata": {
      "needs_background": "light"
     },
     "output_type": "display_data"
    }
   ],
   "source": []
  },
  {
   "cell_type": "markdown",
   "metadata": {},
   "source": [
    "**INSTRUCTION-6: Plot 20 most dangerous states**"
   ]
  },
  {
   "cell_type": "code",
   "execution_count": 80,
   "metadata": {},
   "outputs": [
    {
     "data": {
      "text/plain": [
       "CA    424\n",
       "TX    225\n",
       "FL    154\n",
       "AZ    118\n",
       "OH     79\n",
       "OK     78\n",
       "CO     74\n",
       "GA     70\n",
       "NC     69\n",
       "MO     64\n",
       "IL     62\n",
       "WA     62\n",
       "TN     59\n",
       "LA     57\n",
       "PA     51\n",
       "NM     51\n",
       "AL     50\n",
       "VA     47\n",
       "NY     45\n",
       "SC     44\n",
       "Name: state, dtype: int64"
      ]
     },
     "execution_count": 80,
     "metadata": {},
     "output_type": "execute_result"
    }
   ],
   "source": [
    "kill.state.value_counts().head(20)"
   ]
  },
  {
   "cell_type": "code",
   "execution_count": 79,
   "metadata": {},
   "outputs": [
    {
     "data": {
      "text/plain": [
       "Text(0.5, 1.0, 'Most dangerous state')"
      ]
     },
     "execution_count": 79,
     "metadata": {},
     "output_type": "execute_result"
    },
    {
     "data": {
      "image/png": "[encoded data removed]",
      "text/plain": [
       "<Figure size 720x432 with 1 Axes>"
      ]
     },
     "metadata": {
      "needs_background": "light"
     },
     "output_type": "display_data"
    }
   ],
   "source": [
    "plt.figure(figsize = (10,6))\n",
    "sns.barplot(x = kill.state.value_counts().head(20).index, y = kill.state.value_counts().head(20).values)\n",
    "plt.title(\"Most dangerous state\", color = \"b\", fontsize = 15)"
   ]
  },
  {
   "cell_type": "code",
   "execution_count": 85,
   "metadata": {
    "_cell_guid": "6cf2ffb9-41e1-4928-a7c5-821609bb3393",
    "_uuid": "ee03b2c97467b751f5644a79a988ffb4de816360"
   },
   "outputs": [
    {
     "data": {
      "text/plain": [
       "Text(0.5, 1.0, 'Most dangerous state')"
      ]
     },
     "execution_count": 85,
     "metadata": {},
     "output_type": "execute_result"
    },
    {
     "data": {
      "image/png": "[encoded data removed]",
      "text/plain": [
       "<Figure size 720x504 with 1 Axes>"
      ]
     },
     "metadata": {
      "needs_background": "light"
     },
     "output_type": "display_data"
    }
   ],
   "source": []
  },
  {
   "cell_type": "markdown",
   "metadata": {},
   "source": [
    "**INSTRUCTION-7: Plot Having mental ilness or not for killed people**"
   ]
  },
  {
   "cell_type": "code",
   "execution_count": 82,
   "metadata": {},
   "outputs": [
    {
     "data": {
      "text/plain": [
       "Text(0, 0.5, 'Number of Mental illness')"
      ]
     },
     "execution_count": 82,
     "metadata": {},
     "output_type": "execute_result"
    },
    {
     "data": {
      "image/png": "[encoded data removed]",
      "text/plain": [
       "<Figure size 432x288 with 1 Axes>"
      ]
     },
     "metadata": {
      "needs_background": "light"
     },
     "output_type": "display_data"
    }
   ],
   "source": [
    "plt.figure(figsize = (6,4))\n",
    "sns.countplot(x = kill[\"signs_of_mental_illness\"])\n",
    "plt.title(\"Having mental illness or not\", color = \"b\", fontsize = 15)\n",
    "plt.xlabel(\"Mental illness\")\n",
    "plt.ylabel(\"Number of Mental illness\")"
   ]
  },
  {
   "cell_type": "code",
   "execution_count": 86,
   "metadata": {
    "_cell_guid": "927fbf5f-f86f-4880-ab69-96a4d25810b9",
    "_uuid": "801430710963c15aaf1c97e12bea01ab60a3812f"
   },
   "outputs": [
    {
     "data": {
      "text/plain": [
       "Text(0.5, 1.0, 'Having mental illness or not')"
      ]
     },
     "execution_count": 86,
     "metadata": {},
     "output_type": "execute_result"
    },
    {
     "data": {
      "image/png": "[encoded data removed]",
      "text/plain": [
       "<Figure size 432x288 with 1 Axes>"
      ]
     },
     "metadata": {
      "needs_background": "light"
     },
     "output_type": "display_data"
    }
   ],
   "source": []
  },
  {
   "cell_type": "markdown",
   "metadata": {},
   "source": [
    "**INSTRUCTION-8: Plot number of Threat Types**"
   ]
  },
  {
   "cell_type": "code",
   "execution_count": 84,
   "metadata": {},
   "outputs": [
    {
     "data": {
      "text/plain": [
       "Text(0.5, 0, 'Threat Types')"
      ]
     },
     "execution_count": 84,
     "metadata": {},
     "output_type": "execute_result"
    },
    {
     "data": {
      "image/png": "[encoded data removed]",
      "text/plain": [
       "<Figure size 432x288 with 1 Axes>"
      ]
     },
     "metadata": {
      "needs_background": "light"
     },
     "output_type": "display_data"
    }
   ],
   "source": [
    "plt.figure(figsize = (6,4))\n",
    "sns.countplot(x = kill[\"threat_level\"])\n",
    "plt.title(\"Threat types\", color = \"b\", fontsize = 15)\n",
    "plt.xlabel(\"Threat Types\")"
   ]
  },
  {
   "cell_type": "code",
   "execution_count": 87,
   "metadata": {
    "_cell_guid": "ae54b1be-3c86-46c9-b789-34a45fa9c48b",
    "_uuid": "cc137ddad8e9148c37c9e433a91a7a8f1d9ff3ca"
   },
   "outputs": [
    {
     "data": {
      "text/plain": [
       "Text(0.5, 1.0, 'Threat types')"
      ]
     },
     "execution_count": 87,
     "metadata": {},
     "output_type": "execute_result"
    },
    {
     "data": {
      "image/png": "[encoded data removed]",
      "text/plain": [
       "<Figure size 432x288 with 1 Axes>"
      ]
     },
     "metadata": {
      "needs_background": "light"
     },
     "output_type": "display_data"
    }
   ],
   "source": []
  },
  {
   "cell_type": "markdown",
   "metadata": {},
   "source": [
    "**INSTRUCTION-9: Plot number of Flee Types**"
   ]
  },
  {
   "cell_type": "code",
   "execution_count": 86,
   "metadata": {},
   "outputs": [
    {
     "data": {
      "text/plain": [
       "Text(0.5, 0, 'Flee Types')"
      ]
     },
     "execution_count": 86,
     "metadata": {},
     "output_type": "execute_result"
    },
    {
     "data": {
      "image/png": "[encoded data removed]",
      "text/plain": [
       "<Figure size 432x288 with 1 Axes>"
      ]
     },
     "metadata": {
      "needs_background": "light"
     },
     "output_type": "display_data"
    }
   ],
   "source": [
    "plt.figure(figsize = (6,4))\n",
    "sns.countplot(x = kill[\"flee\"])\n",
    "plt.title(\"Flee types\", color = \"b\", fontsize = 15)\n",
    "plt.xlabel(\"Flee Types\")"
   ]
  },
  {
   "cell_type": "code",
   "execution_count": 88,
   "metadata": {
    "_cell_guid": "c642816e-946b-4e65-8dcd-499f316ce110",
    "_uuid": "888ff93e7a5c5fe2843d3dd5da9ac9d0f9a0e1a5"
   },
   "outputs": [
    {
     "data": {
      "text/plain": [
       "Text(0.5, 1.0, 'Flee types')"
      ]
     },
     "execution_count": 88,
     "metadata": {},
     "output_type": "execute_result"
    },
    {
     "data": {
      "image/png": "[encoded data removed]",
      "text/plain": [
       "<Figure size 432x288 with 1 Axes>"
      ]
     },
     "metadata": {
      "needs_background": "light"
     },
     "output_type": "display_data"
    }
   ],
   "source": []
  }
 ],
 "metadata": {
  "kernelspec": {
   "display_name": "Python 3",
   "language": "python",
   "name": "python3"
  },
  "language_info": {
   "codemirror_mode": {
    "name": "ipython",
    "version": 3
   },
   "file_extension": ".py",
   "mimetype": "text/x-python",
   "name": "python",
   "nbconvert_exporter": "python",
   "pygments_lexer": "ipython3",
   "version": "3.7.6"
  }
 },
 "nbformat": 4,
 "nbformat_minor": 4
}
