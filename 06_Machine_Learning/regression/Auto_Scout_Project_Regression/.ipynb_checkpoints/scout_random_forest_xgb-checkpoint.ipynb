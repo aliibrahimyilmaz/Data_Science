{
 "cells": [
  {
   "cell_type": "code",
   "execution_count": 3,
   "metadata": {},
   "outputs": [],
   "source": [
    "import numpy as np\n",
    "import pandas as pd\n",
    "import statsmodels.api as sm\n",
    "import seaborn as sns\n",
    "import matplotlib.pyplot as plt\n",
    "from sklearn.preprocessing import scale, StandardScaler\n",
    "from sklearn.model_selection import train_test_split, GridSearchCV, cross_val_score\n",
    "from sklearn.metrics import confusion_matrix, accuracy_score, mean_squared_error, r2_score, roc_auc_score, roc_curve, classification_report\n",
    "from sklearn.linear_model import LogisticRegression\n",
    "from sklearn.neighbors import KNeighborsClassifier\n",
    "from sklearn.tree import DecisionTreeClassifier\n",
    "from sklearn.ensemble import RandomForestClassifier\n",
    "from sklearn.ensemble import RandomForestRegressor\n",
    "from sklearn.ensemble import GradientBoostingClassifier\n",
    "from sklearn.metrics import mean_absolute_error\n",
    "from sklearn.metrics import mean_squared_error, mean_absolute_error, r2_score\n",
    "import warnings\n",
    "warnings.filterwarnings(\"ignore\")"
   ]
  },
  {
   "cell_type": "code",
   "execution_count": 4,
   "metadata": {},
   "outputs": [],
   "source": [
    "df = pd.read_csv(\"scout_cleaned.csv\")"
   ]
  },
  {
   "cell_type": "code",
   "execution_count": 5,
   "metadata": {},
   "outputs": [
    {
     "data": {
      "text/plain": [
       "(15915, 160)"
      ]
     },
     "execution_count": 5,
     "metadata": {},
     "output_type": "execute_result"
    }
   ],
   "source": [
    "df.shape"
   ]
  },
  {
   "cell_type": "code",
   "execution_count": 7,
   "metadata": {},
   "outputs": [],
   "source": [
    "X = df.drop([\"price\"], axis=1)"
   ]
  },
  {
   "cell_type": "code",
   "execution_count": 8,
   "metadata": {},
   "outputs": [],
   "source": [
    "y = df[\"price\"]"
   ]
  },
  {
   "cell_type": "code",
   "execution_count": 9,
   "metadata": {},
   "outputs": [],
   "source": [
    "# from sklearn.model_selection import train_test_split\n",
    "X_train, X_test, y_train, y_test = train_test_split(X, y, test_size = 0.2, random_state = 42)"
   ]
  },
  {
   "cell_type": "code",
   "execution_count": 10,
   "metadata": {},
   "outputs": [],
   "source": [
    "def eval_metrics(actual, pred):\n",
    "    rmse = np.sqrt(mean_squared_error(actual, pred))\n",
    "    mae = mean_absolute_error(actual, pred)\n",
    "    mse = mean_squared_error(actual, pred)\n",
    "    score = r2_score(actual, pred)\n",
    "    return print(\"r2_score:\", score, \"\\n\",\"mae:\", mae, \"\\n\",\"mse:\",mse, \"\\n\",\"rmse:\",rmse)"
   ]
  },
  {
   "cell_type": "markdown",
   "metadata": {},
   "source": [
    "## Random Forest"
   ]
  },
  {
   "cell_type": "code",
   "execution_count": 14,
   "metadata": {},
   "outputs": [
    {
     "name": "stdout",
     "output_type": "stream",
     "text": [
      "Fitting 5 folds for each of 108 candidates, totalling 540 fits\n"
     ]
    },
    {
     "name": "stderr",
     "output_type": "stream",
     "text": [
      "[Parallel(n_jobs=-1)]: Using backend LokyBackend with 4 concurrent workers.\n",
      "[Parallel(n_jobs=-1)]: Done  33 tasks      | elapsed:   14.6s\n",
      "[Parallel(n_jobs=-1)]: Done 154 tasks      | elapsed:  1.1min\n",
      "[Parallel(n_jobs=-1)]: Done 357 tasks      | elapsed:  2.8min\n",
      "[Parallel(n_jobs=-1)]: Done 540 out of 540 | elapsed:  4.4min finished\n"
     ]
    }
   ],
   "source": [
    "# Gridsearch:\n",
    "rf = RandomForestRegressor()\n",
    "\n",
    "# hyper parameters\n",
    "# \"n_estimators\" : number of trees - takes features every time random.\n",
    "# \"max_depth\" : the size of tree\n",
    "# \"max_features\" : number of columns\n",
    "# \"min_samples_split\": the number of minimum sample to divide the node\n",
    "rf_params = {\"n_estimators\": [50, 100, 300],\n",
    "             \"max_depth\": [3, 5, 7],\n",
    "            \"max_features\": [2, 4, 6, 8],\n",
    "             \"min_samples_split\": [2, 4, 6]\n",
    "            }\n",
    "\n",
    "rf_cv_model = GridSearchCV(rf, rf_params, cv = 5, n_jobs = -1, verbose = 2).fit(X_train, y_train)"
   ]
  },
  {
   "cell_type": "code",
   "execution_count": 15,
   "metadata": {},
   "outputs": [
    {
     "data": {
      "text/plain": [
       "{'max_depth': 7,\n",
       " 'max_features': 8,\n",
       " 'min_samples_split': 2,\n",
       " 'n_estimators': 100}"
      ]
     },
     "execution_count": 15,
     "metadata": {},
     "output_type": "execute_result"
    }
   ],
   "source": [
    "rf_cv_model.best_params_"
   ]
  },
  {
   "cell_type": "code",
   "execution_count": 18,
   "metadata": {},
   "outputs": [
    {
     "name": "stdout",
     "output_type": "stream",
     "text": [
      "r2_score: 0.9781947297400577 \n",
      " mae: 541.1015105395688 \n",
      " mse: 1176777.6781572078 \n",
      " rmse: 1084.793841316039\n"
     ]
    }
   ],
   "source": [
    "# rf_model = RandomForestClassifier(n_estimators = 300).fit(X_train, y_train)\n",
    "rf_tuned = RandomForestRegressor(max_depth = 33,\n",
    "                                  max_features = 50,\n",
    "                                  min_samples_split = 2,\n",
    "                                  n_estimators = 500).fit(X_train, y_train)\n",
    "y_pred = rf_tuned.predict(X_test)\n",
    "eval_metrics(y_test, y_pred)"
   ]
  },
  {
   "cell_type": "markdown",
   "metadata": {},
   "source": [
    "## XGBoost"
   ]
  },
  {
   "cell_type": "code",
   "execution_count": 19,
   "metadata": {},
   "outputs": [],
   "source": [
    "from xgboost import XGBRegressor"
   ]
  },
  {
   "cell_type": "code",
   "execution_count": 20,
   "metadata": {},
   "outputs": [],
   "source": [
    "xgb = XGBRegressor()\n",
    "\n",
    "xgb_params = {\"n_estimators\": [50, 100, 300],\n",
    "             \"subsample\":[0.5,0.8,1],\n",
    "             \"max_depth\":[3,5,7],\n",
    "             \"learning_rate\":[0.1,0.01,0.3]}"
   ]
  },
  {
   "cell_type": "code",
   "execution_count": 21,
   "metadata": {},
   "outputs": [
    {
     "name": "stdout",
     "output_type": "stream",
     "text": [
      "Fitting 5 folds for each of 81 candidates, totalling 405 fits\n"
     ]
    },
    {
     "name": "stderr",
     "output_type": "stream",
     "text": [
      "[Parallel(n_jobs=-1)]: Using backend LokyBackend with 4 concurrent workers.\n",
      "[Parallel(n_jobs=-1)]: Done  33 tasks      | elapsed:  1.3min\n",
      "[Parallel(n_jobs=-1)]: Done 154 tasks      | elapsed: 12.4min\n",
      "[Parallel(n_jobs=-1)]: Done 357 tasks      | elapsed: 30.4min\n",
      "[Parallel(n_jobs=-1)]: Done 405 out of 405 | elapsed: 36.1min finished\n"
     ]
    }
   ],
   "source": [
    "xgb_cv_model = GridSearchCV(xgb, xgb_params, cv = 5, n_jobs = -1, verbose = 2).fit(X_train, y_train)"
   ]
  },
  {
   "cell_type": "code",
   "execution_count": 22,
   "metadata": {},
   "outputs": [
    {
     "data": {
      "text/plain": [
       "{'learning_rate': 0.1, 'max_depth': 7, 'n_estimators': 300, 'subsample': 0.8}"
      ]
     },
     "execution_count": 22,
     "metadata": {},
     "output_type": "execute_result"
    }
   ],
   "source": [
    "xgb_cv_model.best_params_"
   ]
  },
  {
   "cell_type": "code",
   "execution_count": 23,
   "metadata": {},
   "outputs": [
    {
     "name": "stdout",
     "output_type": "stream",
     "text": [
      "r2_score: 0.9833655891915621 \n",
      " mae: 513.9736128701304 \n",
      " mse: 897718.9044350978 \n",
      " rmse: 947.4802923729326\n"
     ]
    }
   ],
   "source": [
    "# xgb_tuned = XGBClassifier().fit(X_train, y_train)\n",
    "xgb_tuned = XGBRegressor(n_estimators=300,\n",
    "                         subsample=0.8,\n",
    "                         max_depth=7,\n",
    "                         learning_rate=0.1).fit(X_train, y_train)\n",
    "y_pred = xgb_tuned.predict(X_test)\n",
    "eval_metrics(y_test, y_pred)"
   ]
  },
  {
   "cell_type": "code",
   "execution_count": 24,
   "metadata": {},
   "outputs": [
    {
     "name": "stdout",
     "output_type": "stream",
     "text": [
      "r2_score: 0.9847499426753916 \n",
      " mae: 451.89089391518417 \n",
      " mse: 823008.6963510273 \n",
      " rmse: 907.1982673875801\n"
     ]
    }
   ],
   "source": [
    "# xgb_tuned = XGBClassifier().fit(X_train, y_train)\n",
    "xgb_tuned = XGBRegressor(n_estimators=1000,\n",
    "                         subsample=0.8,\n",
    "                         max_depth=7,\n",
    "                         learning_rate=0.1).fit(X_train, y_train)\n",
    "y_pred = xgb_tuned.predict(X_test)\n",
    "eval_metrics(y_test, y_pred)"
   ]
  },
  {
   "cell_type": "code",
   "execution_count": 25,
   "metadata": {},
   "outputs": [
    {
     "name": "stdout",
     "output_type": "stream",
     "text": [
      "r2_score: 0.9853421820988452 \n",
      " mae: 405.09885662724827 \n",
      " mse: 791046.9675883662 \n",
      " rmse: 889.4082120086177\n"
     ]
    }
   ],
   "source": [
    "# xgb_tuned = XGBClassifier().fit(X_train, y_train)\n",
    "xgb_tuned = XGBRegressor(n_estimators=1000,\n",
    "                         subsample=0.8,\n",
    "                         max_depth=33,\n",
    "                         learning_rate=0.1).fit(X_train, y_train)\n",
    "y_pred = xgb_tuned.predict(X_test)\n",
    "eval_metrics(y_test, y_pred)"
   ]
  },
  {
   "cell_type": "code",
   "execution_count": 12,
   "metadata": {},
   "outputs": [
    {
     "name": "stdout",
     "output_type": "stream",
     "text": [
      "<class 'pandas.core.frame.DataFrame'>\n",
      "RangeIndex: 15915 entries, 0 to 15914\n",
      "Columns: 160 entries, Unnamed: 0 to drive_chain_rear\n",
      "dtypes: float64(10), int64(150)\n",
      "memory usage: 19.4 MB\n"
     ]
    }
   ],
   "source": [
    "df.info()"
   ]
  },
  {
   "cell_type": "code",
   "execution_count": 13,
   "metadata": {},
   "outputs": [
    {
     "name": "stdout",
     "output_type": "stream",
     "text": [
      "['Unnamed: 0', 'price', 'km', 'prev_owner', 'hp_kw', 'displacement_cc', 'gears', 'num_door', 'num_seat', 'cylinders', 'co2_emission', 'cc_air conditioning', 'cc_air suspension', 'cc_armrest', 'cc_automatic climate control', 'cc_auxiliary heating', 'cc_cruise control', 'cc_electric starter', 'cc_electric tailgate', 'cc_electrical side mirrors', 'cc_electrically adjustable seats', 'cc_electrically heated windshield', 'cc_heads-up display', 'cc_heated steering wheel', 'cc_hill holder', 'cc_keyless central door lock', 'cc_leather seats', 'cc_leather steering wheel', 'cc_light sensor', 'cc_lumbar support', 'cc_massage seats', 'cc_multi-function steering wheel', 'cc_navigation system', 'cc_panorama roof', 'cc_park distance control', 'cc_parking assist system camera', 'cc_parking assist system self-steering', 'cc_parking assist system sensors front', 'cc_parking assist system sensors rear', 'cc_power windows', 'cc_rain sensor', 'cc_seat heating', 'cc_seat ventilation', 'cc_split rear seats', 'cc_start-stop system', 'cc_sunroof', 'cc_tinted windows', 'cc_wind deflector', 'cc_windshield', 'em_bluetooth', 'em_cd player', 'em_digital radio', 'em_hands-free equipment', 'em_mp3', 'em_on-board computer', 'em_radio', 'em_sound system', 'em_television', 'em_usb', 'ss_abs', 'ss_adaptive cruise control', 'ss_adaptive headlights', 'ss_alarm system', 'ss_blind spot monitor', 'ss_central door lock', 'ss_central door lock with remote control', 'ss_daytime running lights', 'ss_driver drowsiness detection', 'ss_driver-side airbag', 'ss_electronic stability control', 'ss_emergency brake assistant', 'ss_emergency system', 'ss_fog lights', 'ss_head airbag', 'ss_immobilizer', 'ss_isofix', 'ss_led daytime running lights', 'ss_led headlights', 'ss_lane departure warning system', 'ss_night view assist', 'ss_passenger-side airbag', 'ss_power steering', 'ss_rear airbag', 'ss_side airbag', 'ss_tire pressure monitoring system', 'ss_traction control', 'ss_traffic sign recognition', 'ss_xenon headlights', 'ex_alloy wheels', 'ex_cab or rented car', 'ex_catalytic converter', 'ex_handicapped enabled', 'ex_right hand drive', 'ex_roof rack', 'ex_shift paddles', 'ex_ski bag', 'ex_sliding door', 'ex_sport package', 'ex_sport seats', 'ex_sport suspension', 'ex_touch screen', 'ex_trailer hitch', 'ex_tuned car', 'ex_voice control', 'ex_winter tyres', 'cons_comb', 'register_age', 'make_model_Audi A1', 'make_model_Audi A2', 'make_model_Audi A3', 'make_model_Opel Astra', 'make_model_Opel Corsa', 'make_model_Opel Insignia', 'make_model_Renault Clio', 'make_model_Renault Duster', 'make_model_Renault Espace', 'body_type_Compact', 'body_type_Convertible', 'body_type_Coupe', 'body_type_Off-Road', 'body_type_Sedans', 'body_type_Station wagon', 'body_type_Transporter', 'body_type_Van', 'vat_Price negotiable', 'vat_VAT deductible', 'type_Demonstration', \"type_Employee's car\", 'type_New', 'type_Pre-registered', 'type_Used', 'gear_type_Automatic', 'gear_type_Manual', 'gear_type_Semi-automatic', 'fuel_Benzine', 'fuel_Diesel', 'fuel_LPG/CNG/Electric', 'emission_class_Euro 4', 'emission_class_Euro 5', 'emission_class_Euro 6', 'body_color_Beige', 'body_color_Black', 'body_color_Blue', 'body_color_Bronze', 'body_color_Brown', 'body_color_Green', 'body_color_Grey', 'body_color_Orange', 'body_color_Red', 'body_color_Silver', 'body_color_Violet', 'body_color_White', 'body_color_Yellow', 'paint_type_Basic', 'paint_type_Metallic', 'upholstery_Cloth', 'upholstery_Part/Full Leather', 'drive_chain_4WD', 'drive_chain_front', 'drive_chain_rear']\n"
     ]
    }
   ],
   "source": [
    "print(list(df.columns))"
   ]
  },
  {
   "cell_type": "code",
   "execution_count": null,
   "metadata": {},
   "outputs": [],
   "source": []
  }
 ],
 "metadata": {
  "kernelspec": {
   "display_name": "Python 3",
   "language": "python",
   "name": "python3"
  },
  "language_info": {
   "codemirror_mode": {
    "name": "ipython",
    "version": 3
   },
   "file_extension": ".py",
   "mimetype": "text/x-python",
   "name": "python",
   "nbconvert_exporter": "python",
   "pygments_lexer": "ipython3",
   "version": "3.7.6"
  }
 },
 "nbformat": 4,
 "nbformat_minor": 4
}
